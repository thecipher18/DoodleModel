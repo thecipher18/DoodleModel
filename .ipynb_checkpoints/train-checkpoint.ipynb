{
 "cells": [
  {
   "cell_type": "code",
   "execution_count": 58,
   "metadata": {
    "scrolled": true
   },
   "outputs": [
    {
     "name": "stdout",
     "output_type": "stream",
     "text": [
      "Train on 13501 samples, validate on 1501 samples\n",
      "Epoch 1/20\n",
      "13501/13501 [==============================] - 10s 759us/sample - loss: 3.0825 - acc: 0.0864 - val_loss: 2.7510 - val_acc: 0.0633\n",
      "Epoch 2/20\n",
      "13501/13501 [==============================] - 10s 708us/sample - loss: 2.5951 - acc: 0.1153 - val_loss: 2.5489 - val_acc: 0.1519\n",
      "Epoch 3/20\n",
      "13501/13501 [==============================] - 9s 703us/sample - loss: 2.5157 - acc: 0.1290 - val_loss: 2.3669 - val_acc: 0.2392\n",
      "Epoch 4/20\n",
      "13501/13501 [==============================] - 9s 691us/sample - loss: 2.2353 - acc: 0.2286 - val_loss: 1.9913 - val_acc: 0.3451\n",
      "Epoch 5/20\n",
      "13501/13501 [==============================] - 10s 715us/sample - loss: 1.7915 - acc: 0.3997 - val_loss: 1.3403 - val_acc: 0.5949\n",
      "Epoch 6/20\n",
      "13501/13501 [==============================] - 9s 698us/sample - loss: 1.4074 - acc: 0.5437 - val_loss: 1.0626 - val_acc: 0.7042\n",
      "Epoch 7/20\n",
      "13501/13501 [==============================] - 9s 696us/sample - loss: 1.2056 - acc: 0.6158 - val_loss: 0.9444 - val_acc: 0.7315\n",
      "Epoch 8/20\n",
      "13501/13501 [==============================] - 10s 748us/sample - loss: 1.1080 - acc: 0.6472 - val_loss: 0.8515 - val_acc: 0.7628\n",
      "Epoch 9/20\n",
      "13501/13501 [==============================] - 11s 787us/sample - loss: 1.0338 - acc: 0.6774 - val_loss: 0.8836 - val_acc: 0.7588\n",
      "Epoch 10/20\n",
      "13501/13501 [==============================] - 12s 917us/sample - loss: 0.9902 - acc: 0.6927 - val_loss: 0.7883 - val_acc: 0.7702\n",
      "Epoch 11/20\n",
      "13501/13501 [==============================] - 11s 818us/sample - loss: 0.9178 - acc: 0.7174 - val_loss: 0.7686 - val_acc: 0.7861\n",
      "Epoch 12/20\n",
      "13501/13501 [==============================] - 11s 796us/sample - loss: 0.8845 - acc: 0.7239 - val_loss: 0.7263 - val_acc: 0.7855\n",
      "Epoch 13/20\n",
      "13501/13501 [==============================] - 11s 789us/sample - loss: 0.8587 - acc: 0.7367 - val_loss: 0.7294 - val_acc: 0.8048\n",
      "Epoch 14/20\n",
      "13501/13501 [==============================] - 12s 923us/sample - loss: 0.8345 - acc: 0.7419 - val_loss: 0.7020 - val_acc: 0.8141\n",
      "Epoch 15/20\n",
      "13501/13501 [==============================] - 11s 787us/sample - loss: 0.8135 - acc: 0.7526 - val_loss: 0.6667 - val_acc: 0.8208\n",
      "Epoch 16/20\n",
      "13501/13501 [==============================] - 10s 711us/sample - loss: 0.7790 - acc: 0.7588 - val_loss: 0.6231 - val_acc: 0.8281\n",
      "Epoch 17/20\n",
      "13501/13501 [==============================] - 11s 778us/sample - loss: 0.7622 - acc: 0.7653 - val_loss: 0.6334 - val_acc: 0.8168\n",
      "Epoch 18/20\n",
      "13501/13501 [==============================] - 12s 888us/sample - loss: 0.7381 - acc: 0.7744 - val_loss: 0.6490 - val_acc: 0.8128\n",
      "Epoch 19/20\n",
      "13501/13501 [==============================] - 11s 850us/sample - loss: 0.7253 - acc: 0.7785 - val_loss: 0.6066 - val_acc: 0.8301\n",
      "Epoch 20/20\n",
      "13501/13501 [==============================] - 12s 859us/sample - loss: 0.6994 - acc: 0.7865 - val_loss: 0.6486 - val_acc: 0.8021\n"
     ]
    }
   ],
   "source": [
    "import tensorflow as tf \n",
    "from tensorflow.keras.models import Sequential\n",
    "from tensorflow.keras.layers import Dense, Dropout, Activation, Flatten, Conv2D, MaxPooling2D\n",
    "import pickle\n",
    "from keras.models import model_from_json\n",
    "from keras.models import load_model\n",
    "import matplotlib.pyplot as plt\n",
    "\n",
    "# Opening the files about data\n",
    "X = pickle.load(open(\"X.pickle\", \"rb\"))\n",
    "y = pickle.load(open(\"y.pickle\", \"rb\"))\n",
    "\n",
    "# normalizing data (a pixel goes from 0 to 255)\n",
    "# X = X/255.0\n",
    "\n",
    "# Building the model\n",
    "model = Sequential()\n",
    "# 3 convolutional layers\n",
    "model.add(Conv2D(32, (3, 3), input_shape = X.shape[1:]))\n",
    "model.add(Activation(\"relu\"))\n",
    "model.add(MaxPooling2D(pool_size=(2,2)))\n",
    "\n",
    "model.add(Conv2D(64, (3, 3)))\n",
    "model.add(Activation(\"relu\"))\n",
    "model.add(MaxPooling2D(pool_size=(2,2)))\n",
    "\n",
    "model.add(Conv2D(64, (3, 3)))\n",
    "model.add(Activation(\"relu\"))\n",
    "model.add(MaxPooling2D(pool_size=(2,2)))\n",
    "\n",
    "# 2 hidden layers\n",
    "model.add(Flatten())\n",
    "model.add(Dense(128))\n",
    "model.add(Activation(\"relu\"))\n",
    "\n",
    "model.add(Dense(128))\n",
    "model.add(Activation(\"relu\"))\n",
    "\n",
    "# The output layer with 4 neurons, for 4 classes\n",
    "model.add(Dense(15))\n",
    "model.add(Activation(\"softmax\"))\n",
    "\n",
    "# Compiling the model using some basic parameters\n",
    "model.compile(loss=\"sparse_categorical_crossentropy\",\n",
    "                optimizer=\"adam\",\n",
    "                metrics=[\"accuracy\"])\n",
    "\n",
    "# Training the model, with 20 iterations\n",
    "# validation_split corresponds to the percentage of images used for the validation phase compared to all the images\n",
    "history = model.fit(X, y, batch_size=32, epochs=20, validation_split=0.1)"
   ]
  },
  {
   "cell_type": "code",
   "execution_count": 59,
   "metadata": {
    "scrolled": false
   },
   "outputs": [
    {
     "name": "stdout",
     "output_type": "stream",
     "text": [
      "Saved model to disk\n",
      "dict_keys(['loss', 'acc', 'val_loss', 'val_acc'])\n"
     ]
    },
    {
     "data": {
      "text/plain": [
       "<matplotlib.legend.Legend at 0x1d26ff49248>"
      ]
     },
     "execution_count": 59,
     "metadata": {},
     "output_type": "execute_result"
    },
    {
     "data": {
      "image/png": "[encoded data removed]",
      "text/plain": [
       "<Figure size 432x288 with 1 Axes>"
      ]
     },
     "metadata": {
      "needs_background": "light"
     },
     "output_type": "display_data"
    }
   ],
   "source": [
    "# Saving the model\n",
    "model_json = model.to_json()\n",
    "with open(\"model.json\", \"w\") as json_file :\n",
    "    json_file.write(model_json)\n",
    "\n",
    "model.save_weights(\"model.h5\")\n",
    "print(\"Saved model to disk\")\n",
    "\n",
    "model.save('kerasmodel.h5')\n",
    "\n",
    "# Printing a graph showing the accuracy changes during the training phase\n",
    "print(history.history.keys())\n",
    "plt.figure(1)\n",
    "plt.plot(history.history['acc'])\n",
    "plt.plot(history.history['val_acc'])\n",
    "plt.title('model accuracy')\n",
    "plt.ylabel('accuracy')\n",
    "plt.xlabel('epoch')\n",
    "plt.legend(['train', 'validation'], loc='upper left')"
   ]
  },
  {
   "cell_type": "code",
   "execution_count": 60,
   "metadata": {},
   "outputs": [
    {
     "name": "stdout",
     "output_type": "stream",
     "text": [
      "dict_keys(['loss', 'acc', 'val_loss', 'val_acc'])\n"
     ]
    },
    {
     "data": {
      "text/plain": [
       "<matplotlib.legend.Legend at 0x1d26ffbba08>"
      ]
     },
     "execution_count": 60,
     "metadata": {},
     "output_type": "execute_result"
    },
    {
     "data": {
      "image/png": "[encoded data removed]",
      "text/plain": [
       "<Figure size 432x288 with 1 Axes>"
      ]
     },
     "metadata": {
      "needs_background": "light"
     },
     "output_type": "display_data"
    }
   ],
   "source": [
    "print(history.history.keys())\n",
    "plt.figure(1)\n",
    "plt.plot(history.history['loss'])\n",
    "plt.plot(history.history['val_loss'])\n",
    "plt.title('model loss')\n",
    "plt.ylabel('loss')\n",
    "plt.xlabel('epoch')\n",
    "plt.legend(['train', 'validation'], loc='upper left')"
   ]
  },
  {
   "cell_type": "code",
   "execution_count": 53,
   "metadata": {},
   "outputs": [
    {
     "name": "stdout",
     "output_type": "stream",
     "text": [
      "Model: \"sequential_24\"\n",
      "_________________________________________________________________\n",
      "Layer (type)                 Output Shape              Param #   \n",
      "=================================================================\n",
      "conv2d_76 (Conv2D)           (None, 26, 26, 32)        320       \n",
      "_________________________________________________________________\n",
      "activation_119 (Activation)  (None, 26, 26, 32)        0         \n",
      "_________________________________________________________________\n",
      "batch_normalization_20 (Batc (None, 26, 26, 32)        128       \n",
      "_________________________________________________________________\n",
      "max_pooling2d_63 (MaxPooling (None, 13, 13, 32)        0         \n",
      "_________________________________________________________________\n",
      "conv2d_77 (Conv2D)           (None, 11, 11, 64)        18496     \n",
      "_________________________________________________________________\n",
      "activation_120 (Activation)  (None, 11, 11, 64)        0         \n",
      "_________________________________________________________________\n",
      "max_pooling2d_64 (MaxPooling (None, 5, 5, 64)          0         \n",
      "_________________________________________________________________\n",
      "conv2d_78 (Conv2D)           (None, 3, 3, 64)          36928     \n",
      "_________________________________________________________________\n",
      "activation_121 (Activation)  (None, 3, 3, 64)          0         \n",
      "_________________________________________________________________\n",
      "max_pooling2d_65 (MaxPooling (None, 1, 1, 64)          0         \n",
      "_________________________________________________________________\n",
      "flatten_17 (Flatten)         (None, 64)                0         \n",
      "_________________________________________________________________\n",
      "dense_50 (Dense)             (None, 128)               8320      \n",
      "_________________________________________________________________\n",
      "activation_122 (Activation)  (None, 128)               0         \n",
      "_________________________________________________________________\n",
      "dropout_49 (Dropout)         (None, 128)               0         \n",
      "_________________________________________________________________\n",
      "dense_51 (Dense)             (None, 128)               16512     \n",
      "_________________________________________________________________\n",
      "activation_123 (Activation)  (None, 128)               0         \n",
      "_________________________________________________________________\n",
      "batch_normalization_21 (Batc (None, 128)               512       \n",
      "_________________________________________________________________\n",
      "dropout_50 (Dropout)         (None, 128)               0         \n",
      "_________________________________________________________________\n",
      "dense_52 (Dense)             (None, 15)                1935      \n",
      "_________________________________________________________________\n",
      "activation_124 (Activation)  (None, 15)                0         \n",
      "=================================================================\n",
      "Total params: 83,151\n",
      "Trainable params: 82,831\n",
      "Non-trainable params: 320\n",
      "_________________________________________________________________\n"
     ]
    }
   ],
   "source": [
    "model.summary()"
   ]
  },
  {
   "cell_type": "code",
   "execution_count": null,
   "metadata": {},
   "outputs": [],
   "source": []
  }
 ],
 "metadata": {
  "kernelspec": {
   "display_name": "Python 3",
   "language": "python",
   "name": "python3"
  },
  "language_info": {
   "codemirror_mode": {
    "name": "ipython",
    "version": 3
   },
   "file_extension": ".py",
   "mimetype": "text/x-python",
   "name": "python",
   "nbconvert_exporter": "python",
   "pygments_lexer": "ipython3",
   "version": "3.7.4"
  }
 },
 "nbformat": 4,
 "nbformat_minor": 2
}
