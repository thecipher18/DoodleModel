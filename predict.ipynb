{
 "cells": [
  {
   "cell_type": "code",
   "execution_count": 25,
   "metadata": {},
   "outputs": [],
   "source": [
    "import cv2\n",
    "import tensorflow as tf\n",
    "import time\n",
    "import matplotlib.pyplot as plt\n",
    "import matplotlib.image as mpimg\n",
    "import numpy as np\n",
    "from PIL import Image \n",
    "\n",
    "CATEGORIES = [\"airplane\",\"ant\",\"apple\",\"axe\",\"banana\",\"baseball\",\"bee\",\"bus\",\"car\",\"diamond\",\n",
    "              \"grapes\",\"grass\",\"hand\",\"pineapple\",\"tornado\"]\n",
    "\n",
    "drawing = \"car5.jpg\"\n",
    "\n",
    "def prepare(filepath):\n",
    "    IMG_SIZE = 28\n",
    "#     img_array = cv2.imread(filepath, cv2.IMREAD_GRAYSCALE)\n",
    "    img_array = crop(filepath)\n",
    "    new_array = cv2.resize(img_array, (IMG_SIZE, IMG_SIZE), interpolation = cv2.INTER_AREA)\n",
    "    print(new_array.shape)\n",
    "    plt.imshow(new_array, interpolation='nearest')\n",
    "    plt.show()\n",
    "#     imgplot = plt.imshow(new_array)\n",
    "#     plt.show()\n",
    "    return new_array.reshape(-1, IMG_SIZE, IMG_SIZE, 1)  \n",
    "\n",
    "model = tf.keras.models.load_model(\"kerasmodel.h5\")"
   ]
  },
  {
   "cell_type": "code",
   "execution_count": 26,
   "metadata": {},
   "outputs": [],
   "source": [
    "def deletenp(filepath, top, right, bot, left):\n",
    "    data = filepath\n",
    "    for i in range(top):\n",
    "        data = np.delete(data, 0, 0)\n",
    "        \n",
    "    data = np.rot90(data)\n",
    "    for i in range(right):\n",
    "        data = np.delete(data, 0, 0)\n",
    "      \n",
    "    data = np.rot90(data)\n",
    "    for i in range(bot):\n",
    "        data = np.delete(data, 0, 0)\n",
    "        \n",
    "    data = np.rot90(data)\n",
    "    for i in range(left):\n",
    "        data = np.delete(data, 0, 0)\n",
    "        \n",
    "    data = np.rot90(data)\n",
    "    return data\n",
    "\n",
    "def check255(array):\n",
    "    for i in array:\n",
    "            if(i != 255):\n",
    "                return 1\n",
    "\n",
    "# data = np.array([\n",
    "#     [255, 255, 255, 255, 255],\n",
    "#     [255, 255, 255, 255, 255],\n",
    "#     [255, 1, 1, 1, 255],\n",
    "#     [255, 1, 1, 1, 255],\n",
    "#     [255, 1, 255, 1, 255],\n",
    "#     [255, 255, 255, 255, 255],\n",
    "#     [255, 255, 255, 255, 255],\n",
    "# ])\n",
    "def crop(filepath):\n",
    "    img_array = cv2.imread(filepath, cv2.IMREAD_GRAYSCALE)\n",
    "    print(\"img type:\", img_array.dtype)\n",
    "    print(\"img shape:\", img_array.shape)\n",
    "    #crop top\n",
    "    top = 0\n",
    "    for i in img_array: \n",
    "        if(check255(i)):\n",
    "            break\n",
    "        else:\n",
    "            top += 1\n",
    "            continue\n",
    "            \n",
    "    #crop right\n",
    "    rotright = np.rot90(img_array)\n",
    "    right = 0\n",
    "    for i in rotright:\n",
    "        if(check255(i)):\n",
    "            break\n",
    "        else:\n",
    "            right += 1\n",
    "            continue\n",
    "            \n",
    "    #crop bottom\n",
    "    bot = 0\n",
    "    rotbot = np.rot90(rotright)\n",
    "    for i in rotbot:\n",
    "        if(check255(i)):\n",
    "            break\n",
    "        else:\n",
    "            bot += 1\n",
    "            continue\n",
    "            \n",
    "    #crop left\n",
    "    left = 0\n",
    "    rotleft = np.rot90(rotbot)\n",
    "    for i in rotleft:\n",
    "        if(check255(i)):\n",
    "            break\n",
    "        else:\n",
    "            left += 1\n",
    "            continue\n",
    "    minval =  min(top, right, left, bot)       \n",
    "    crop_array = deletenp(img_array, minval, minval, minval, minval)\n",
    "    plt.imshow(crop_array, interpolation='nearest')\n",
    "    plt.show()\n",
    "    print(\"img type:\", crop_array.dtype)\n",
    "    print(\"img shape:\", crop_array.shape)\n",
    "    return crop_array\n"
   ]
  },
  {
   "cell_type": "code",
   "execution_count": 27,
   "metadata": {},
   "outputs": [
    {
     "name": "stdout",
     "output_type": "stream",
     "text": [
      "img type: uint8\n",
      "img shape: (600, 600)\n"
     ]
    },
    {
     "data": {
      "image/png": "[encoded data removed]",
      "text/plain": [
       "<Figure size 432x288 with 1 Axes>"
      ]
     },
     "metadata": {
      "needs_background": "light"
     },
     "output_type": "display_data"
    },
    {
     "name": "stdout",
     "output_type": "stream",
     "text": [
      "img type: uint8\n",
      "img shape: (408, 408)\n",
      "(28, 28)\n"
     ]
    },
    {
     "data": {
      "image/png": "[encoded data removed]",
      "text/plain": [
       "<Figure size 432x288 with 1 Axes>"
      ]
     },
     "metadata": {
      "needs_background": "light"
     },
     "output_type": "display_data"
    },
    {
     "name": "stdout",
     "output_type": "stream",
     "text": [
      "Time taken was 1.0560426712036133 seconds\n"
     ]
    }
   ],
   "source": [
    "t1 = time.time()\n",
    "prediction = model.predict([prepare(drawing)])\n",
    "t2 = time.time()\n",
    "print( 'Time taken was {} seconds'.format( t2 - t1))\n",
    "prediction = list(prediction[0])"
   ]
  },
  {
   "cell_type": "code",
   "execution_count": 28,
   "metadata": {},
   "outputs": [
    {
     "name": "stdout",
     "output_type": "stream",
     "text": [
      "car\n"
     ]
    }
   ],
   "source": [
    "print(CATEGORIES[prediction.index(max(prediction))])"
   ]
  },
  {
   "cell_type": "code",
   "execution_count": 29,
   "metadata": {},
   "outputs": [
    {
     "name": "stdout",
     "output_type": "stream",
     "text": [
      "[0.0020745364, 0.008690492, 0.12087065, 0.003553908, 0.002509799, 0.0022499957, 0.0009138443, 0.020297498, 0.83029, 0.00091888115, 0.0024782065, 0.0010473076, 0.0026601958, 0.0008538327, 0.0005907863]\n"
     ]
    }
   ],
   "source": [
    "print(prediction)"
   ]
  },
  {
   "cell_type": "code",
   "execution_count": 30,
   "metadata": {},
   "outputs": [
    {
     "data": {
      "image/png": "[encoded data removed]",
      "text/plain": [
       "<Figure size 432x288 with 1 Axes>"
      ]
     },
     "metadata": {
      "needs_background": "light"
     },
     "output_type": "display_data"
    }
   ],
   "source": [
    "img=cv2.imread(drawing)\n",
    "img\n",
    "imgplot = plt.imshow(img)\n",
    "plt.show()"
   ]
  },
  {
   "cell_type": "code",
   "execution_count": 29,
   "metadata": {},
   "outputs": [],
   "source": []
  },
  {
   "cell_type": "code",
   "execution_count": null,
   "metadata": {},
   "outputs": [],
   "source": []
  }
 ],
 "metadata": {
  "kernelspec": {
   "display_name": "Python 3",
   "language": "python",
   "name": "python3"
  },
  "language_info": {
   "codemirror_mode": {
    "name": "ipython",
    "version": 3
   },
   "file_extension": ".py",
   "mimetype": "text/x-python",
   "name": "python",
   "nbconvert_exporter": "python",
   "pygments_lexer": "ipython3",
   "version": "3.7.4"
  }
 },
 "nbformat": 4,
 "nbformat_minor": 2
}
