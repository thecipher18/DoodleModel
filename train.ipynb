{
 "cells": [
  {
   "cell_type": "code",
   "execution_count": 62,
   "metadata": {
    "scrolled": true
   },
   "outputs": [
    {
     "name": "stdout",
     "output_type": "stream",
     "text": [
      "Train on 13501 samples, validate on 1501 samples\n",
      "Epoch 1/20\n",
      "13501/13501 [==============================] - 10s 721us/sample - loss: 3.1244 - acc: 0.1097 - val_loss: 1.9726 - val_acc: 0.3344\n",
      "Epoch 2/20\n",
      "13501/13501 [==============================] - 8s 627us/sample - loss: 1.7328 - acc: 0.4312 - val_loss: 1.1057 - val_acc: 0.6682\n",
      "Epoch 3/20\n",
      "13501/13501 [==============================] - 9s 692us/sample - loss: 1.1156 - acc: 0.6525 - val_loss: 0.8113 - val_acc: 0.7368\n",
      "Epoch 4/20\n",
      "13501/13501 [==============================] - 9s 669us/sample - loss: 0.8885 - acc: 0.7343 - val_loss: 0.6749 - val_acc: 0.8015\n",
      "Epoch 5/20\n",
      "13501/13501 [==============================] - 9s 658us/sample - loss: 0.7837 - acc: 0.7689 - val_loss: 0.6286 - val_acc: 0.8141\n",
      "Epoch 6/20\n",
      "13501/13501 [==============================] - 8s 604us/sample - loss: 0.6682 - acc: 0.8027 - val_loss: 0.5781 - val_acc: 0.8374\n",
      "Epoch 7/20\n",
      "13501/13501 [==============================] - 8s 599us/sample - loss: 0.6087 - acc: 0.8238 - val_loss: 0.5948 - val_acc: 0.8241\n",
      "Epoch 8/20\n",
      "13501/13501 [==============================] - 8s 600us/sample - loss: 0.5566 - acc: 0.8379 - val_loss: 0.5557 - val_acc: 0.8394\n",
      "Epoch 9/20\n",
      "13501/13501 [==============================] - 8s 601us/sample - loss: 0.5070 - acc: 0.8543 - val_loss: 0.5718 - val_acc: 0.8428\n",
      "Epoch 10/20\n",
      "13501/13501 [==============================] - 9s 640us/sample - loss: 0.4795 - acc: 0.8640 - val_loss: 0.5664 - val_acc: 0.8394\n",
      "Epoch 11/20\n",
      "13501/13501 [==============================] - 8s 623us/sample - loss: 0.4361 - acc: 0.8742 - val_loss: 0.5992 - val_acc: 0.8314\n",
      "Epoch 12/20\n",
      "13501/13501 [==============================] - 9s 666us/sample - loss: 0.3987 - acc: 0.8867 - val_loss: 0.5683 - val_acc: 0.8468\n",
      "Epoch 13/20\n",
      "13501/13501 [==============================] - 8s 616us/sample - loss: 0.3737 - acc: 0.8916 - val_loss: 0.6335 - val_acc: 0.8408\n",
      "Epoch 14/20\n",
      "13501/13501 [==============================] - 9s 679us/sample - loss: 0.3396 - acc: 0.9016 - val_loss: 0.6430 - val_acc: 0.8374\n",
      "Epoch 15/20\n",
      "13501/13501 [==============================] - 8s 604us/sample - loss: 0.3175 - acc: 0.9079 - val_loss: 0.6263 - val_acc: 0.8388\n",
      "Epoch 16/20\n",
      "13501/13501 [==============================] - 8s 629us/sample - loss: 0.2885 - acc: 0.9147 - val_loss: 0.6094 - val_acc: 0.8541\n",
      "Epoch 17/20\n",
      "13501/13501 [==============================] - 9s 638us/sample - loss: 0.2666 - acc: 0.9238 - val_loss: 0.6278 - val_acc: 0.8388\n",
      "Epoch 18/20\n",
      "13501/13501 [==============================] - 8s 604us/sample - loss: 0.2624 - acc: 0.9236 - val_loss: 0.6109 - val_acc: 0.8428\n",
      "Epoch 19/20\n",
      "13501/13501 [==============================] - 8s 605us/sample - loss: 0.2439 - acc: 0.9324 - val_loss: 0.6750 - val_acc: 0.8381\n",
      "Epoch 20/20\n",
      "13501/13501 [==============================] - 8s 600us/sample - loss: 0.2175 - acc: 0.9375 - val_loss: 0.7293 - val_acc: 0.8421\n"
     ]
    }
   ],
   "source": [
    "import tensorflow as tf \n",
    "from tensorflow.keras.models import Sequential\n",
    "from tensorflow.keras.layers import Dense, Dropout, Activation, Flatten, Conv2D, MaxPooling2D\n",
    "import pickle\n",
    "from keras.models import model_from_json\n",
    "from keras.models import load_model\n",
    "import matplotlib.pyplot as plt\n",
    "\n",
    "# Opening the files about data\n",
    "X = pickle.load(open(\"X.pickle\", \"rb\"))\n",
    "y = pickle.load(open(\"y.pickle\", \"rb\"))\n",
    "\n",
    "# normalizing data (a pixel goes from 0 to 255)\n",
    "# X = X/255.0\n",
    "\n",
    "# Building the model\n",
    "model = Sequential()\n",
    "# 3 convolutional layers\n",
    "model.add(Conv2D(32, (3, 3), input_shape = X.shape[1:]))\n",
    "model.add(Activation(\"relu\"))\n",
    "model.add(MaxPooling2D(pool_size=(2,2)))\n",
    "\n",
    "model.add(Conv2D(64, (3, 3)))\n",
    "model.add(Activation(\"relu\"))\n",
    "model.add(MaxPooling2D(pool_size=(2,2)))\n",
    "\n",
    "model.add(Conv2D(64, (3, 3)))\n",
    "model.add(Activation(\"relu\"))\n",
    "model.add(MaxPooling2D(pool_size=(2,2)))\n",
    "\n",
    "\n",
    "# 2 hidden layers\n",
    "model.add(Flatten())\n",
    "model.add(Dense(128))\n",
    "model.add(Activation(\"relu\"))\n",
    "model.add(Dropout(0.5))\n",
    "\n",
    "model.add(Dense(128))\n",
    "model.add(Activation(\"relu\"))\n",
    "model.add(BatchNormalization())\n",
    "model.add(Dropout(0.5))\n",
    "\n",
    "# The output layer with 4 neurons, for 4 classes\n",
    "model.add(Dense(15))\n",
    "model.add(Activation(\"softmax\"))\n",
    "\n",
    "# Compiling the model using some basic parameters\n",
    "model.compile(loss=\"sparse_categorical_crossentropy\",\n",
    "                optimizer=\"adam\",\n",
    "                metrics=[\"accuracy\"])\n",
    "\n",
    "# Training the model, with 20 iterations\n",
    "# validation_split corresponds to the percentage of images used for the validation phase compared to all the images\n",
    "history = model.fit(X, y, batch_size=32, epochs=20, validation_split=0.1)"
   ]
  },
  {
   "cell_type": "code",
   "execution_count": 63,
   "metadata": {
    "scrolled": false
   },
   "outputs": [
    {
     "name": "stdout",
     "output_type": "stream",
     "text": [
      "Saved model to disk\n",
      "dict_keys(['loss', 'acc', 'val_loss', 'val_acc'])\n"
     ]
    },
    {
     "data": {
      "text/plain": [
       "<matplotlib.legend.Legend at 0x1d2702a4208>"
      ]
     },
     "execution_count": 63,
     "metadata": {},
     "output_type": "execute_result"
    },
    {
     "data": {
      "image/png": "[encoded data removed]",
      "text/plain": [
       "<Figure size 432x288 with 1 Axes>"
      ]
     },
     "metadata": {
      "needs_background": "light"
     },
     "output_type": "display_data"
    }
   ],
   "source": [
    "# Saving the model\n",
    "model_json = model.to_json()\n",
    "with open(\"model.json\", \"w\") as json_file :\n",
    "    json_file.write(model_json)\n",
    "\n",
    "model.save_weights(\"model.h5\")\n",
    "print(\"Saved model to disk\")\n",
    "\n",
    "model.save('kerasmodel.h5')\n",
    "\n",
    "# Printing a graph showing the accuracy changes during the training phase\n",
    "print(history.history.keys())\n",
    "plt.figure(1)\n",
    "plt.plot(history.history['acc'])\n",
    "plt.plot(history.history['val_acc'])\n",
    "plt.title('model accuracy')\n",
    "plt.ylabel('accuracy')\n",
    "plt.xlabel('epoch')\n",
    "plt.legend(['train', 'validation'], loc='upper left')"
   ]
  },
  {
   "cell_type": "code",
   "execution_count": 64,
   "metadata": {},
   "outputs": [
    {
     "name": "stdout",
     "output_type": "stream",
     "text": [
      "dict_keys(['loss', 'acc', 'val_loss', 'val_acc'])\n"
     ]
    },
    {
     "data": {
      "text/plain": [
       "<matplotlib.legend.Legend at 0x1d27030e888>"
      ]
     },
     "execution_count": 64,
     "metadata": {},
     "output_type": "execute_result"
    },
    {
     "data": {
      "image/png": "[encoded data removed]",
      "text/plain": [
       "<Figure size 432x288 with 1 Axes>"
      ]
     },
     "metadata": {
      "needs_background": "light"
     },
     "output_type": "display_data"
    }
   ],
   "source": [
    "print(history.history.keys())\n",
    "plt.figure(1)\n",
    "plt.plot(history.history['loss'])\n",
    "plt.plot(history.history['val_loss'])\n",
    "plt.title('model loss')\n",
    "plt.ylabel('loss')\n",
    "plt.xlabel('epoch')\n",
    "plt.legend(['train', 'validation'], loc='upper left')"
   ]
  },
  {
   "cell_type": "code",
   "execution_count": 65,
   "metadata": {},
   "outputs": [
    {
     "name": "stdout",
     "output_type": "stream",
     "text": [
      "Model: \"sequential_27\"\n",
      "_________________________________________________________________\n",
      "Layer (type)                 Output Shape              Param #   \n",
      "=================================================================\n",
      "conv2d_85 (Conv2D)           (None, 26, 26, 32)        320       \n",
      "_________________________________________________________________\n",
      "activation_137 (Activation)  (None, 26, 26, 32)        0         \n",
      "_________________________________________________________________\n",
      "max_pooling2d_72 (MaxPooling (None, 13, 13, 32)        0         \n",
      "_________________________________________________________________\n",
      "conv2d_86 (Conv2D)           (None, 11, 11, 64)        18496     \n",
      "_________________________________________________________________\n",
      "activation_138 (Activation)  (None, 11, 11, 64)        0         \n",
      "_________________________________________________________________\n",
      "max_pooling2d_73 (MaxPooling (None, 5, 5, 64)          0         \n",
      "_________________________________________________________________\n",
      "conv2d_87 (Conv2D)           (None, 3, 3, 64)          36928     \n",
      "_________________________________________________________________\n",
      "activation_139 (Activation)  (None, 3, 3, 64)          0         \n",
      "_________________________________________________________________\n",
      "max_pooling2d_74 (MaxPooling (None, 1, 1, 64)          0         \n",
      "_________________________________________________________________\n",
      "flatten_20 (Flatten)         (None, 64)                0         \n",
      "_________________________________________________________________\n",
      "dense_59 (Dense)             (None, 128)               8320      \n",
      "_________________________________________________________________\n",
      "activation_140 (Activation)  (None, 128)               0         \n",
      "_________________________________________________________________\n",
      "dropout_55 (Dropout)         (None, 128)               0         \n",
      "_________________________________________________________________\n",
      "dense_60 (Dense)             (None, 128)               16512     \n",
      "_________________________________________________________________\n",
      "activation_141 (Activation)  (None, 128)               0         \n",
      "_________________________________________________________________\n",
      "batch_normalization_24 (Batc (None, 128)               512       \n",
      "_________________________________________________________________\n",
      "dropout_56 (Dropout)         (None, 128)               0         \n",
      "_________________________________________________________________\n",
      "dense_61 (Dense)             (None, 15)                1935      \n",
      "_________________________________________________________________\n",
      "activation_142 (Activation)  (None, 15)                0         \n",
      "=================================================================\n",
      "Total params: 83,023\n",
      "Trainable params: 82,767\n",
      "Non-trainable params: 256\n",
      "_________________________________________________________________\n"
     ]
    }
   ],
   "source": [
    "model.summary()"
   ]
  },
  {
   "cell_type": "code",
   "execution_count": null,
   "metadata": {},
   "outputs": [],
   "source": []
  }
 ],
 "metadata": {
  "kernelspec": {
   "display_name": "Python 3",
   "language": "python",
   "name": "python3"
  },
  "language_info": {
   "codemirror_mode": {
    "name": "ipython",
    "version": 3
   },
   "file_extension": ".py",
   "mimetype": "text/x-python",
   "name": "python",
   "nbconvert_exporter": "python",
   "pygments_lexer": "ipython3",
   "version": "3.7.4"
  }
 },
 "nbformat": 4,
 "nbformat_minor": 2
}
