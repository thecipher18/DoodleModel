{
 "cells": [
  {
   "cell_type": "code",
   "execution_count": 23,
   "metadata": {},
   "outputs": [
    {
     "name": "stdout",
     "output_type": "stream",
     "text": [
      "Train on 1979 samples, validate on 220 samples\n",
      "Epoch 1/20\n",
      "1979/1979 [==============================] - 2s 876us/sample - loss: 3.7057 - acc: 0.4507 - val_loss: 1.2617 - val_acc: 0.4955\n",
      "Epoch 2/20\n",
      "1979/1979 [==============================] - ETA: 0s - loss: 0.9666 - acc: 0.545 - 1s 660us/sample - loss: 0.9605 - acc: 0.5483 - val_loss: 0.9744 - val_acc: 0.7545\n",
      "Epoch 3/20\n",
      "1979/1979 [==============================] - 1s 660us/sample - loss: 0.7797 - acc: 0.7029 - val_loss: 0.7819 - val_acc: 0.7864\n",
      "Epoch 4/20\n",
      "1979/1979 [==============================] - 1s 656us/sample - loss: 0.6461 - acc: 0.7741 - val_loss: 0.4798 - val_acc: 0.8682\n",
      "Epoch 5/20\n",
      "1979/1979 [==============================] - 1s 658us/sample - loss: 0.5629 - acc: 0.7994 - val_loss: 0.5348 - val_acc: 0.9318\n",
      "Epoch 6/20\n",
      "1979/1979 [==============================] - 1s 657us/sample - loss: 0.4963 - acc: 0.8181 - val_loss: 0.3847 - val_acc: 0.8818\n",
      "Epoch 7/20\n",
      "1979/1979 [==============================] - 1s 653us/sample - loss: 0.4748 - acc: 0.8257 - val_loss: 0.3145 - val_acc: 0.9273\n",
      "Epoch 8/20\n",
      "1979/1979 [==============================] - 1s 654us/sample - loss: 0.3946 - acc: 0.8540 - val_loss: 0.3149 - val_acc: 0.9182\n",
      "Epoch 9/20\n",
      "1979/1979 [==============================] - 1s 650us/sample - loss: 0.3688 - acc: 0.8666 - val_loss: 0.2437 - val_acc: 0.9545\n",
      "Epoch 10/20\n",
      "1979/1979 [==============================] - 1s 644us/sample - loss: 0.3438 - acc: 0.8777 - val_loss: 0.2375 - val_acc: 0.9409\n",
      "Epoch 11/20\n",
      "1979/1979 [==============================] - 1s 644us/sample - loss: 0.3182 - acc: 0.8797 - val_loss: 0.3158 - val_acc: 0.8727\n",
      "Epoch 12/20\n",
      "1979/1979 [==============================] - 1s 671us/sample - loss: 0.3311 - acc: 0.8883 - val_loss: 0.2156 - val_acc: 0.9409\n",
      "Epoch 13/20\n",
      "1979/1979 [==============================] - 1s 653us/sample - loss: 0.2861 - acc: 0.8949 - val_loss: 0.1990 - val_acc: 0.9455\n",
      "Epoch 14/20\n",
      "1979/1979 [==============================] - 1s 660us/sample - loss: 0.2667 - acc: 0.9080 - val_loss: 0.1971 - val_acc: 0.9545\n",
      "Epoch 15/20\n",
      "1979/1979 [==============================] - 1s 654us/sample - loss: 0.2674 - acc: 0.9096 - val_loss: 0.2271 - val_acc: 0.9409\n",
      "Epoch 16/20\n",
      "1979/1979 [==============================] - 1s 658us/sample - loss: 0.2563 - acc: 0.9050 - val_loss: 0.1972 - val_acc: 0.9591\n",
      "Epoch 17/20\n",
      "1979/1979 [==============================] - 1s 652us/sample - loss: 0.2280 - acc: 0.9151 - val_loss: 0.1768 - val_acc: 0.9591\n",
      "Epoch 18/20\n",
      "1979/1979 [==============================] - 1s 643us/sample - loss: 0.2089 - acc: 0.9227 - val_loss: 0.1884 - val_acc: 0.9500\n",
      "Epoch 19/20\n",
      "1979/1979 [==============================] - 1s 657us/sample - loss: 0.2365 - acc: 0.9176 - val_loss: 0.1950 - val_acc: 0.9409\n",
      "Epoch 20/20\n",
      "1979/1979 [==============================] - 1s 675us/sample - loss: 0.2137 - acc: 0.9186 - val_loss: 0.1702 - val_acc: 0.9500\n"
     ]
    }
   ],
   "source": [
    "import tensorflow as tf \n",
    "from tensorflow.keras.models import Sequential\n",
    "from tensorflow.keras.layers import Dense, Dropout, Activation, Flatten, Conv2D, MaxPooling2D\n",
    "import pickle\n",
    "from keras.models import model_from_json\n",
    "from keras.models import load_model\n",
    "import matplotlib.pyplot as plt\n",
    "\n",
    "# Opening the files about data\n",
    "X = pickle.load(open(\"X.pickle\", \"rb\"))\n",
    "y = pickle.load(open(\"y.pickle\", \"rb\"))\n",
    "\n",
    "# normalizing data (a pixel goes from 0 to 255)\n",
    "# X = X/255.0\n",
    "\n",
    "# Building the model\n",
    "model = Sequential()\n",
    "# 3 convolutional layers\n",
    "model.add(Conv2D(32, (3, 3), input_shape = X.shape[1:]))\n",
    "model.add(Activation(\"relu\"))\n",
    "model.add(MaxPooling2D(pool_size=(2,2)))\n",
    "model.add(Dropout(0.5))\n",
    "\n",
    "model.add(Conv2D(64, (3, 3)))\n",
    "model.add(Activation(\"relu\"))\n",
    "model.add(MaxPooling2D(pool_size=(2,2)))\n",
    "\n",
    "model.add(Conv2D(64, (3, 3)))\n",
    "model.add(Activation(\"relu\"))\n",
    "model.add(MaxPooling2D(pool_size=(2,2)))\n",
    "model.add(Dropout(0.25))\n",
    "\n",
    "# 2 hidden layers\n",
    "model.add(Flatten())\n",
    "model.add(Dense(128))\n",
    "model.add(Activation(\"relu\"))\n",
    "\n",
    "model.add(Dense(128))\n",
    "model.add(Activation(\"relu\"))\n",
    "\n",
    "# The output layer with 4 neurons, for 4 classes\n",
    "model.add(Dense(4))\n",
    "model.add(Activation(\"softmax\"))\n",
    "\n",
    "# Compiling the model using some basic parameters\n",
    "model.compile(loss=\"sparse_categorical_crossentropy\",\n",
    "                optimizer=\"adam\",\n",
    "                metrics=[\"accuracy\"])\n",
    "\n",
    "# Training the model, with 20 iterations\n",
    "# validation_split corresponds to the percentage of images used for the validation phase compared to all the images\n",
    "history = model.fit(X, y, batch_size=32, epochs=20, validation_split=0.1)"
   ]
  },
  {
   "cell_type": "code",
   "execution_count": 24,
   "metadata": {},
   "outputs": [
    {
     "name": "stdout",
     "output_type": "stream",
     "text": [
      "Saved model to disk\n",
      "dict_keys(['loss', 'acc', 'val_loss', 'val_acc'])\n"
     ]
    },
    {
     "data": {
      "text/plain": [
       "<matplotlib.legend.Legend at 0x26181877c48>"
      ]
     },
     "execution_count": 24,
     "metadata": {},
     "output_type": "execute_result"
    },
    {
     "data": {
      "image/png": "[encoded data removed]",
      "text/plain": [
       "<Figure size 432x288 with 1 Axes>"
      ]
     },
     "metadata": {
      "needs_background": "light"
     },
     "output_type": "display_data"
    }
   ],
   "source": [
    "# Saving the model\n",
    "model_json = model.to_json()\n",
    "with open(\"model.json\", \"w\") as json_file :\n",
    "    json_file.write(model_json)\n",
    "\n",
    "model.save_weights(\"model.h5\")\n",
    "print(\"Saved model to disk\")\n",
    "\n",
    "model.save('kerasmodel.h5')\n",
    "\n",
    "# Printing a graph showing the accuracy changes during the training phase\n",
    "print(history.history.keys())\n",
    "plt.figure(1)\n",
    "plt.plot(history.history['acc'])\n",
    "plt.plot(history.history['val_acc'])\n",
    "plt.title('model accuracy')\n",
    "plt.ylabel('accuracy')\n",
    "plt.xlabel('epoch')\n",
    "plt.legend(['train', 'validation'], loc='upper left')"
   ]
  },
  {
   "cell_type": "code",
   "execution_count": null,
   "metadata": {},
   "outputs": [],
   "source": []
  },
  {
   "cell_type": "code",
   "execution_count": null,
   "metadata": {},
   "outputs": [],
   "source": []
  }
 ],
 "metadata": {
  "kernelspec": {
   "display_name": "Python 3",
   "language": "python",
   "name": "python3"
  },
  "language_info": {
   "codemirror_mode": {
    "name": "ipython",
    "version": 3
   },
   "file_extension": ".py",
   "mimetype": "text/x-python",
   "name": "python",
   "nbconvert_exporter": "python",
   "pygments_lexer": "ipython3",
   "version": "3.7.4"
  }
 },
 "nbformat": 4,
 "nbformat_minor": 2
}
