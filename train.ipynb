{
 "cells": [
  {
   "cell_type": "code",
   "execution_count": 33,
   "metadata": {
    "scrolled": true
   },
   "outputs": [
    {
     "name": "stdout",
     "output_type": "stream",
     "text": [
      "Train on 10124 samples, validate on 1125 samples\n",
      "Epoch 1/20\n",
      "10124/10124 [==============================] - 6s 619us/sample - loss: 3.3896 - acc: 0.0753 - val_loss: 2.6161 - val_acc: 0.1182\n",
      "Epoch 2/20\n",
      "10124/10124 [==============================] - 6s 558us/sample - loss: 2.4008 - acc: 0.2086 - val_loss: 1.7251 - val_acc: 0.4311\n",
      "Epoch 3/20\n",
      "10124/10124 [==============================] - 5s 539us/sample - loss: 1.6832 - acc: 0.4337 - val_loss: 1.4247 - val_acc: 0.5520\n",
      "Epoch 4/20\n",
      "10124/10124 [==============================] - 5s 530us/sample - loss: 1.3005 - acc: 0.5927 - val_loss: 0.9858 - val_acc: 0.6969\n",
      "Epoch 5/20\n",
      "10124/10124 [==============================] - 5s 534us/sample - loss: 1.0606 - acc: 0.6729 - val_loss: 0.8613 - val_acc: 0.7173\n",
      "Epoch 6/20\n",
      "10124/10124 [==============================] - 5s 533us/sample - loss: 0.9190 - acc: 0.7238 - val_loss: 0.7810 - val_acc: 0.7449\n",
      "Epoch 7/20\n",
      "10124/10124 [==============================] - 5s 529us/sample - loss: 0.8169 - acc: 0.7559 - val_loss: 0.7081 - val_acc: 0.7804\n",
      "Epoch 8/20\n",
      "10124/10124 [==============================] - 5s 528us/sample - loss: 0.7541 - acc: 0.7813 - val_loss: 0.6662 - val_acc: 0.7991\n",
      "Epoch 9/20\n",
      "10124/10124 [==============================] - 5s 529us/sample - loss: 0.6797 - acc: 0.8045 - val_loss: 0.6548 - val_acc: 0.7956\n",
      "Epoch 10/20\n",
      "10124/10124 [==============================] - 5s 530us/sample - loss: 0.6374 - acc: 0.8201 - val_loss: 0.5972 - val_acc: 0.8133\n",
      "Epoch 11/20\n",
      "10124/10124 [==============================] - 5s 529us/sample - loss: 0.5747 - acc: 0.8397 - val_loss: 0.5986 - val_acc: 0.8249\n",
      "Epoch 12/20\n",
      "10124/10124 [==============================] - 5s 531us/sample - loss: 0.5258 - acc: 0.8508 - val_loss: 0.6106 - val_acc: 0.8160\n",
      "Epoch 13/20\n",
      "10124/10124 [==============================] - 5s 529us/sample - loss: 0.4838 - acc: 0.8588 - val_loss: 0.6289 - val_acc: 0.8258\n",
      "Epoch 14/20\n",
      "10124/10124 [==============================] - 5s 528us/sample - loss: 0.4463 - acc: 0.8722 - val_loss: 0.5679 - val_acc: 0.8391\n",
      "Epoch 15/20\n",
      "10124/10124 [==============================] - 5s 532us/sample - loss: 0.4061 - acc: 0.8866 - val_loss: 0.5920 - val_acc: 0.8267\n",
      "Epoch 16/20\n",
      "10124/10124 [==============================] - 5s 528us/sample - loss: 0.3903 - acc: 0.8908 - val_loss: 0.6130 - val_acc: 0.8204\n",
      "Epoch 17/20\n",
      "10124/10124 [==============================] - 5s 531us/sample - loss: 0.3611 - acc: 0.8966 - val_loss: 0.6245 - val_acc: 0.8293\n",
      "Epoch 18/20\n",
      "10124/10124 [==============================] - 5s 530us/sample - loss: 0.3376 - acc: 0.9065 - val_loss: 0.6090 - val_acc: 0.8293\n",
      "Epoch 19/20\n",
      "10124/10124 [==============================] - 5s 535us/sample - loss: 0.3097 - acc: 0.9131 - val_loss: 0.6565 - val_acc: 0.8240\n",
      "Epoch 20/20\n",
      "10124/10124 [==============================] - 5s 528us/sample - loss: 0.2877 - acc: 0.9191 - val_loss: 0.6765 - val_acc: 0.8267\n"
     ]
    }
   ],
   "source": [
    "import tensorflow as tf \n",
    "from tensorflow.keras.models import Sequential\n",
    "from tensorflow.keras.layers import Dense, Dropout, Activation, BatchNormalization, Flatten, Conv2D, MaxPooling2D\n",
    "import pickle\n",
    "from keras.models import model_from_json\n",
    "from keras.models import load_model\n",
    "import matplotlib.pyplot as plt\n",
    "from sklearn.model_selection import train_test_split\n",
    "\n",
    "# Opening the files about data\n",
    "X = pickle.load(open(\"X.pickle\", \"rb\"))\n",
    "y = pickle.load(open(\"y.pickle\", \"rb\"))\n",
    "\n",
    "# normalizing data (a pixel goes from 0 to 255)\n",
    "# X = X/255.0\n",
    "\n",
    "X_train, X_test, y_train, y_test = train_test_split(X, y, test_size=0.25, random_state=42)\n",
    "\n",
    "# Building the model\n",
    "model = Sequential()\n",
    "# 3 convolutional layers\n",
    "model.add(Conv2D(32, (3, 3), input_shape = X.shape[1:]))\n",
    "model.add(Activation(\"relu\"))\n",
    "model.add(MaxPooling2D(pool_size=(2,2)))\n",
    "\n",
    "model.add(Conv2D(64, (3, 3)))\n",
    "model.add(Activation(\"relu\"))\n",
    "model.add(MaxPooling2D(pool_size=(2,2)))\n",
    "\n",
    "model.add(Conv2D(64, (3, 3)))\n",
    "model.add(Activation(\"relu\"))\n",
    "model.add(MaxPooling2D(pool_size=(2,2)))\n",
    "\n",
    "\n",
    "# 2 hidden layers\n",
    "model.add(Flatten())\n",
    "model.add(Dense(128))\n",
    "model.add(Activation(\"relu\"))\n",
    "model.add(Dropout(0.5))\n",
    "\n",
    "model.add(Dense(128))\n",
    "model.add(Activation(\"relu\"))\n",
    "model.add(BatchNormalization())\n",
    "model.add(Dropout(0.5))\n",
    "\n",
    "# The output layer with 4 neurons, for 4 classes\n",
    "model.add(Dense(15))\n",
    "model.add(Activation(\"softmax\"))\n",
    "\n",
    "# Compiling the model using some basic parameters\n",
    "model.compile(loss=\"sparse_categorical_crossentropy\",\n",
    "                optimizer=\"adam\",\n",
    "                metrics=[\"accuracy\"])\n",
    "\n",
    "# Training the model, with 20 iterations\n",
    "# validation_split corresponds to the percentage of images used for the validation phase compared to all the images\n",
    "history = model.fit(X_train, y_train, batch_size=32, epochs=20, validation_split=0.1)"
   ]
  },
  {
   "cell_type": "code",
   "execution_count": 34,
   "metadata": {
    "scrolled": false
   },
   "outputs": [
    {
     "name": "stdout",
     "output_type": "stream",
     "text": [
      "Saved model to disk\n",
      "dict_keys(['loss', 'acc', 'val_loss', 'val_acc'])\n"
     ]
    },
    {
     "data": {
      "text/plain": [
       "<matplotlib.legend.Legend at 0x1d8b05ac1c8>"
      ]
     },
     "execution_count": 34,
     "metadata": {},
     "output_type": "execute_result"
    },
    {
     "data": {
      "image/png": "[encoded data removed]",
      "text/plain": [
       "<Figure size 432x288 with 1 Axes>"
      ]
     },
     "metadata": {
      "needs_background": "light"
     },
     "output_type": "display_data"
    }
   ],
   "source": [
    "# Saving the model\n",
    "model_json = model.to_json()\n",
    "with open(\"model.json\", \"w\") as json_file :\n",
    "    json_file.write(model_json)\n",
    "\n",
    "model.save_weights(\"model.h5\")\n",
    "print(\"Saved model to disk\")\n",
    "\n",
    "model.save('kerasmodel.h5')\n",
    "\n",
    "# Printing a graph showing the accuracy changes during the training phase\n",
    "print(history.history.keys())\n",
    "plt.figure(1)\n",
    "plt.plot(history.history['acc'])\n",
    "plt.plot(history.history['val_acc'])\n",
    "plt.title('model accuracy')\n",
    "plt.ylabel('accuracy')\n",
    "plt.xlabel('epoch')\n",
    "plt.legend(['train', 'validation'], loc='upper left')"
   ]
  },
  {
   "cell_type": "code",
   "execution_count": 35,
   "metadata": {},
   "outputs": [
    {
     "name": "stdout",
     "output_type": "stream",
     "text": [
      "dict_keys(['loss', 'acc', 'val_loss', 'val_acc'])\n"
     ]
    },
    {
     "data": {
      "text/plain": [
       "<matplotlib.legend.Legend at 0x1d8b05dae08>"
      ]
     },
     "execution_count": 35,
     "metadata": {},
     "output_type": "execute_result"
    },
    {
     "data": {
      "image/png": "[encoded data removed]",
      "text/plain": [
       "<Figure size 432x288 with 1 Axes>"
      ]
     },
     "metadata": {
      "needs_background": "light"
     },
     "output_type": "display_data"
    }
   ],
   "source": [
    "print(history.history.keys())\n",
    "plt.figure(1)\n",
    "plt.plot(history.history['loss'])\n",
    "plt.plot(history.history['val_loss'])\n",
    "plt.title('model loss')\n",
    "plt.ylabel('loss')\n",
    "plt.xlabel('epoch')\n",
    "plt.legend(['train', 'validation'], loc='upper left')"
   ]
  },
  {
   "cell_type": "code",
   "execution_count": 36,
   "metadata": {},
   "outputs": [
    {
     "name": "stdout",
     "output_type": "stream",
     "text": [
      "Model: \"sequential_4\"\n",
      "_________________________________________________________________\n",
      "Layer (type)                 Output Shape              Param #   \n",
      "=================================================================\n",
      "conv2d_12 (Conv2D)           (None, 26, 26, 32)        320       \n",
      "_________________________________________________________________\n",
      "activation_24 (Activation)   (None, 26, 26, 32)        0         \n",
      "_________________________________________________________________\n",
      "max_pooling2d_12 (MaxPooling (None, 13, 13, 32)        0         \n",
      "_________________________________________________________________\n",
      "conv2d_13 (Conv2D)           (None, 11, 11, 64)        18496     \n",
      "_________________________________________________________________\n",
      "activation_25 (Activation)   (None, 11, 11, 64)        0         \n",
      "_________________________________________________________________\n",
      "max_pooling2d_13 (MaxPooling (None, 5, 5, 64)          0         \n",
      "_________________________________________________________________\n",
      "conv2d_14 (Conv2D)           (None, 3, 3, 64)          36928     \n",
      "_________________________________________________________________\n",
      "activation_26 (Activation)   (None, 3, 3, 64)          0         \n",
      "_________________________________________________________________\n",
      "max_pooling2d_14 (MaxPooling (None, 1, 1, 64)          0         \n",
      "_________________________________________________________________\n",
      "flatten_4 (Flatten)          (None, 64)                0         \n",
      "_________________________________________________________________\n",
      "dense_12 (Dense)             (None, 128)               8320      \n",
      "_________________________________________________________________\n",
      "activation_27 (Activation)   (None, 128)               0         \n",
      "_________________________________________________________________\n",
      "dropout_8 (Dropout)          (None, 128)               0         \n",
      "_________________________________________________________________\n",
      "dense_13 (Dense)             (None, 128)               16512     \n",
      "_________________________________________________________________\n",
      "activation_28 (Activation)   (None, 128)               0         \n",
      "_________________________________________________________________\n",
      "batch_normalization_4 (Batch (None, 128)               512       \n",
      "_________________________________________________________________\n",
      "dropout_9 (Dropout)          (None, 128)               0         \n",
      "_________________________________________________________________\n",
      "dense_14 (Dense)             (None, 15)                1935      \n",
      "_________________________________________________________________\n",
      "activation_29 (Activation)   (None, 15)                0         \n",
      "=================================================================\n",
      "Total params: 83,023\n",
      "Trainable params: 82,767\n",
      "Non-trainable params: 256\n",
      "_________________________________________________________________\n"
     ]
    }
   ],
   "source": [
    "model.summary()"
   ]
  },
  {
   "cell_type": "code",
   "execution_count": 37,
   "metadata": {},
   "outputs": [
    {
     "name": "stdout",
     "output_type": "stream",
     "text": [
      "\n",
      "# Evaluate on test data\n",
      "3750/3750 [==============================] - 1s 169us/sample - loss: 0.6785 - acc: 0.8304\n",
      "test loss, test acc: [0.6785072099884351, 0.8304]\n"
     ]
    }
   ],
   "source": [
    "print('\\n# Evaluate on test data')\n",
    "results = model.evaluate(X_test, y_test, batch_size=32)\n",
    "print('test loss, test acc:', results)\n"
   ]
  },
  {
   "cell_type": "code",
   "execution_count": null,
   "metadata": {},
   "outputs": [],
   "source": []
  }
 ],
 "metadata": {
  "kernelspec": {
   "display_name": "Python 3",
   "language": "python",
   "name": "python3"
  },
  "language_info": {
   "codemirror_mode": {
    "name": "ipython",
    "version": 3
   },
   "file_extension": ".py",
   "mimetype": "text/x-python",
   "name": "python",
   "nbconvert_exporter": "python",
   "pygments_lexer": "ipython3",
   "version": "3.7.4"
  }
 },
 "nbformat": 4,
 "nbformat_minor": 2
}
