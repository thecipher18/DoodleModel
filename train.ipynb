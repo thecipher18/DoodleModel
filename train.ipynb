{
 "cells": [
  {
   "cell_type": "code",
   "execution_count": 2,
   "metadata": {
    "scrolled": true
   },
   "outputs": [
    {
     "name": "stdout",
     "output_type": "stream",
     "text": [
      "Train on 13501 samples, validate on 1501 samples\n",
      "Epoch 1/20\n",
      "13501/13501 [==============================] - 11s 782us/sample - loss: 3.2088 - acc: 0.1007 - val_loss: 2.7509 - val_acc: 0.1166\n",
      "Epoch 2/20\n",
      "13501/13501 [==============================] - 9s 663us/sample - loss: 1.9314 - acc: 0.3575 - val_loss: 1.2380 - val_acc: 0.6136\n",
      "Epoch 3/20\n",
      "13501/13501 [==============================] - 10s 732us/sample - loss: 1.2557 - acc: 0.6051 - val_loss: 0.8635 - val_acc: 0.7355\n",
      "Epoch 4/20\n",
      "13501/13501 [==============================] - 8s 615us/sample - loss: 1.0035 - acc: 0.6971 - val_loss: 0.6977 - val_acc: 0.7875\n",
      "Epoch 5/20\n",
      "13501/13501 [==============================] - 9s 638us/sample - loss: 0.8576 - acc: 0.7436 - val_loss: 0.6857 - val_acc: 0.7961\n",
      "Epoch 6/20\n",
      "13501/13501 [==============================] - 9s 673us/sample - loss: 0.7665 - acc: 0.7770 - val_loss: 0.6041 - val_acc: 0.8128\n",
      "Epoch 7/20\n",
      "13501/13501 [==============================] - 9s 634us/sample - loss: 0.7034 - acc: 0.7937 - val_loss: 0.5922 - val_acc: 0.8254\n",
      "Epoch 8/20\n",
      "13501/13501 [==============================] - 9s 631us/sample - loss: 0.6454 - acc: 0.8122 - val_loss: 0.5592 - val_acc: 0.8294\n",
      "Epoch 9/20\n",
      "13501/13501 [==============================] - 9s 668us/sample - loss: 0.6028 - acc: 0.8230 - val_loss: 0.5848 - val_acc: 0.8261\n",
      "Epoch 10/20\n",
      "13501/13501 [==============================] - 8s 628us/sample - loss: 0.5635 - acc: 0.8376 - val_loss: 0.5431 - val_acc: 0.8501\n",
      "Epoch 11/20\n",
      "13501/13501 [==============================] - 8s 619us/sample - loss: 0.5247 - acc: 0.8469 - val_loss: 0.5306 - val_acc: 0.8454\n",
      "Epoch 12/20\n",
      "13501/13501 [==============================] - 9s 633us/sample - loss: 0.4824 - acc: 0.8622 - val_loss: 0.5261 - val_acc: 0.8554\n",
      "Epoch 13/20\n",
      "13501/13501 [==============================] - 9s 640us/sample - loss: 0.4397 - acc: 0.8756 - val_loss: 0.5232 - val_acc: 0.8534\n",
      "Epoch 14/20\n",
      "13501/13501 [==============================] - 9s 692us/sample - loss: 0.4265 - acc: 0.8806 - val_loss: 0.5351 - val_acc: 0.8581\n",
      "Epoch 15/20\n",
      "13501/13501 [==============================] - 8s 612us/sample - loss: 0.3944 - acc: 0.8886 - val_loss: 0.5424 - val_acc: 0.8494\n",
      "Epoch 16/20\n",
      "13501/13501 [==============================] - 9s 666us/sample - loss: 0.3879 - acc: 0.8905 - val_loss: 0.5545 - val_acc: 0.8534\n",
      "Epoch 17/20\n",
      "13501/13501 [==============================] - 9s 635us/sample - loss: 0.3354 - acc: 0.9035 - val_loss: 0.5330 - val_acc: 0.8621\n",
      "Epoch 18/20\n",
      "13501/13501 [==============================] - 9s 667us/sample - loss: 0.3189 - acc: 0.9107 - val_loss: 0.6191 - val_acc: 0.8488\n",
      "Epoch 19/20\n",
      "13501/13501 [==============================] - 8s 607us/sample - loss: 0.2967 - acc: 0.9143 - val_loss: 0.5617 - val_acc: 0.8528\n",
      "Epoch 20/20\n",
      "13501/13501 [==============================] - 9s 650us/sample - loss: 0.2959 - acc: 0.9140 - val_loss: 0.5824 - val_acc: 0.8521\n"
     ]
    }
   ],
   "source": [
    "import tensorflow as tf \n",
    "from tensorflow.keras.models import Sequential\n",
    "from tensorflow.keras.layers import Dense, Dropout, Activation, BatchNormalization, Flatten, Conv2D, MaxPooling2D\n",
    "import pickle\n",
    "from keras.models import model_from_json\n",
    "from keras.models import load_model\n",
    "import matplotlib.pyplot as plt\n",
    "\n",
    "# Opening the files about data\n",
    "X = pickle.load(open(\"X.pickle\", \"rb\"))\n",
    "y = pickle.load(open(\"y.pickle\", \"rb\"))\n",
    "\n",
    "# normalizing data (a pixel goes from 0 to 255)\n",
    "# X = X/255.0\n",
    "\n",
    "# Building the model\n",
    "model = Sequential()\n",
    "# 3 convolutional layers\n",
    "model.add(Conv2D(32, (3, 3), input_shape = X.shape[1:]))\n",
    "model.add(Activation(\"relu\"))\n",
    "model.add(MaxPooling2D(pool_size=(2,2)))\n",
    "\n",
    "model.add(Conv2D(64, (3, 3)))\n",
    "model.add(Activation(\"relu\"))\n",
    "model.add(MaxPooling2D(pool_size=(2,2)))\n",
    "\n",
    "model.add(Conv2D(64, (3, 3)))\n",
    "model.add(Activation(\"relu\"))\n",
    "model.add(MaxPooling2D(pool_size=(2,2)))\n",
    "\n",
    "\n",
    "# 2 hidden layers\n",
    "model.add(Flatten())\n",
    "model.add(Dense(128))\n",
    "model.add(Activation(\"relu\"))\n",
    "model.add(Dropout(0.5))\n",
    "\n",
    "model.add(Dense(128))\n",
    "model.add(Activation(\"relu\"))\n",
    "model.add(BatchNormalization())\n",
    "model.add(Dropout(0.5))\n",
    "\n",
    "# The output layer with 4 neurons, for 4 classes\n",
    "model.add(Dense(15))\n",
    "model.add(Activation(\"softmax\"))\n",
    "\n",
    "# Compiling the model using some basic parameters\n",
    "model.compile(loss=\"sparse_categorical_crossentropy\",\n",
    "                optimizer=\"adam\",\n",
    "                metrics=[\"accuracy\"])\n",
    "\n",
    "# Training the model, with 20 iterations\n",
    "# validation_split corresponds to the percentage of images used for the validation phase compared to all the images\n",
    "history = model.fit(X, y, batch_size=32, epochs=20, validation_split=0.1)"
   ]
  },
  {
   "cell_type": "code",
   "execution_count": 3,
   "metadata": {
    "scrolled": false
   },
   "outputs": [
    {
     "name": "stdout",
     "output_type": "stream",
     "text": [
      "Saved model to disk\n",
      "dict_keys(['loss', 'acc', 'val_loss', 'val_acc'])\n"
     ]
    },
    {
     "data": {
      "text/plain": [
       "<matplotlib.legend.Legend at 0x2009b8c6f08>"
      ]
     },
     "execution_count": 3,
     "metadata": {},
     "output_type": "execute_result"
    },
    {
     "data": {
      "image/png": "[encoded data removed]",
      "text/plain": [
       "<Figure size 432x288 with 1 Axes>"
      ]
     },
     "metadata": {
      "needs_background": "light"
     },
     "output_type": "display_data"
    }
   ],
   "source": [
    "# Saving the model\n",
    "model_json = model.to_json()\n",
    "with open(\"model.json\", \"w\") as json_file :\n",
    "    json_file.write(model_json)\n",
    "\n",
    "model.save_weights(\"model.h5\")\n",
    "print(\"Saved model to disk\")\n",
    "\n",
    "model.save('kerasmodel.h5')\n",
    "\n",
    "# Printing a graph showing the accuracy changes during the training phase\n",
    "print(history.history.keys())\n",
    "plt.figure(1)\n",
    "plt.plot(history.history['acc'])\n",
    "plt.plot(history.history['val_acc'])\n",
    "plt.title('model accuracy')\n",
    "plt.ylabel('accuracy')\n",
    "plt.xlabel('epoch')\n",
    "plt.legend(['train', 'validation'], loc='upper left')"
   ]
  },
  {
   "cell_type": "code",
   "execution_count": 4,
   "metadata": {},
   "outputs": [
    {
     "name": "stdout",
     "output_type": "stream",
     "text": [
      "dict_keys(['loss', 'acc', 'val_loss', 'val_acc'])\n"
     ]
    },
    {
     "data": {
      "text/plain": [
       "<matplotlib.legend.Legend at 0x2009b96ecc8>"
      ]
     },
     "execution_count": 4,
     "metadata": {},
     "output_type": "execute_result"
    },
    {
     "data": {
      "image/png": "[encoded data removed]",
      "text/plain": [
       "<Figure size 432x288 with 1 Axes>"
      ]
     },
     "metadata": {
      "needs_background": "light"
     },
     "output_type": "display_data"
    }
   ],
   "source": [
    "print(history.history.keys())\n",
    "plt.figure(1)\n",
    "plt.plot(history.history['loss'])\n",
    "plt.plot(history.history['val_loss'])\n",
    "plt.title('model loss')\n",
    "plt.ylabel('loss')\n",
    "plt.xlabel('epoch')\n",
    "plt.legend(['train', 'validation'], loc='upper left')"
   ]
  },
  {
   "cell_type": "code",
   "execution_count": 5,
   "metadata": {},
   "outputs": [
    {
     "name": "stdout",
     "output_type": "stream",
     "text": [
      "Model: \"sequential_1\"\n",
      "_________________________________________________________________\n",
      "Layer (type)                 Output Shape              Param #   \n",
      "=================================================================\n",
      "conv2d_3 (Conv2D)            (None, 26, 26, 32)        320       \n",
      "_________________________________________________________________\n",
      "activation_5 (Activation)    (None, 26, 26, 32)        0         \n",
      "_________________________________________________________________\n",
      "max_pooling2d_3 (MaxPooling2 (None, 13, 13, 32)        0         \n",
      "_________________________________________________________________\n",
      "conv2d_4 (Conv2D)            (None, 11, 11, 64)        18496     \n",
      "_________________________________________________________________\n",
      "activation_6 (Activation)    (None, 11, 11, 64)        0         \n",
      "_________________________________________________________________\n",
      "max_pooling2d_4 (MaxPooling2 (None, 5, 5, 64)          0         \n",
      "_________________________________________________________________\n",
      "conv2d_5 (Conv2D)            (None, 3, 3, 64)          36928     \n",
      "_________________________________________________________________\n",
      "activation_7 (Activation)    (None, 3, 3, 64)          0         \n",
      "_________________________________________________________________\n",
      "max_pooling2d_5 (MaxPooling2 (None, 1, 1, 64)          0         \n",
      "_________________________________________________________________\n",
      "flatten_1 (Flatten)          (None, 64)                0         \n",
      "_________________________________________________________________\n",
      "dense_2 (Dense)              (None, 128)               8320      \n",
      "_________________________________________________________________\n",
      "activation_8 (Activation)    (None, 128)               0         \n",
      "_________________________________________________________________\n",
      "dropout_1 (Dropout)          (None, 128)               0         \n",
      "_________________________________________________________________\n",
      "dense_3 (Dense)              (None, 128)               16512     \n",
      "_________________________________________________________________\n",
      "activation_9 (Activation)    (None, 128)               0         \n",
      "_________________________________________________________________\n",
      "batch_normalization (BatchNo (None, 128)               512       \n",
      "_________________________________________________________________\n",
      "dropout_2 (Dropout)          (None, 128)               0         \n",
      "_________________________________________________________________\n",
      "dense_4 (Dense)              (None, 15)                1935      \n",
      "_________________________________________________________________\n",
      "activation_10 (Activation)   (None, 15)                0         \n",
      "=================================================================\n",
      "Total params: 83,023\n",
      "Trainable params: 82,767\n",
      "Non-trainable params: 256\n",
      "_________________________________________________________________\n"
     ]
    }
   ],
   "source": [
    "model.summary()"
   ]
  },
  {
   "cell_type": "code",
   "execution_count": null,
   "metadata": {},
   "outputs": [],
   "source": []
  }
 ],
 "metadata": {
  "kernelspec": {
   "display_name": "Python 3",
   "language": "python",
   "name": "python3"
  },
  "language_info": {
   "codemirror_mode": {
    "name": "ipython",
    "version": 3
   },
   "file_extension": ".py",
   "mimetype": "text/x-python",
   "name": "python",
   "nbconvert_exporter": "python",
   "pygments_lexer": "ipython3",
   "version": "3.7.4"
  }
 },
 "nbformat": 4,
 "nbformat_minor": 2
}
