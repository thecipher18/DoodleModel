{
 "cells": [
  {
   "cell_type": "code",
   "execution_count": 21,
   "metadata": {
    "scrolled": true
   },
   "outputs": [
    {
     "name": "stdout",
     "output_type": "stream",
     "text": [
      "Train on 9576 samples, validate on 1065 samples\n",
      "Epoch 1/20\n",
      "9576/9576 [==============================] - 6s 606us/sample - loss: 3.3340 - acc: 0.0782 - val_loss: 2.5417 - val_acc: 0.1596\n",
      "Epoch 2/20\n",
      "9576/9576 [==============================] - 5s 566us/sample - loss: 2.5930 - acc: 0.1598 - val_loss: 2.2075 - val_acc: 0.2066\n",
      "Epoch 3/20\n",
      "9576/9576 [==============================] - 6s 576us/sample - loss: 2.0210 - acc: 0.3065 - val_loss: 1.5515 - val_acc: 0.5333\n",
      "Epoch 4/20\n",
      "9576/9576 [==============================] - 5s 567us/sample - loss: 1.5056 - acc: 0.4978 - val_loss: 1.1454 - val_acc: 0.6714\n",
      "Epoch 5/20\n",
      "9576/9576 [==============================] - 5s 565us/sample - loss: 1.2406 - acc: 0.6020 - val_loss: 1.0089 - val_acc: 0.6892\n",
      "Epoch 6/20\n",
      "9576/9576 [==============================] - 5s 564us/sample - loss: 1.0802 - acc: 0.6643 - val_loss: 0.8888 - val_acc: 0.7221\n",
      "Epoch 7/20\n",
      "9576/9576 [==============================] - 5s 565us/sample - loss: 0.9499 - acc: 0.7068 - val_loss: 0.7719 - val_acc: 0.7653\n",
      "Epoch 8/20\n",
      "9576/9576 [==============================] - 5s 565us/sample - loss: 0.8317 - acc: 0.7496 - val_loss: 0.6271 - val_acc: 0.8103\n",
      "Epoch 9/20\n",
      "9576/9576 [==============================] - 5s 565us/sample - loss: 0.7490 - acc: 0.7720 - val_loss: 0.6447 - val_acc: 0.8160\n",
      "Epoch 10/20\n",
      "9576/9576 [==============================] - 5s 565us/sample - loss: 0.6776 - acc: 0.7971 - val_loss: 0.7038 - val_acc: 0.7925\n",
      "Epoch 11/20\n",
      "9576/9576 [==============================] - 5s 570us/sample - loss: 0.6289 - acc: 0.8145 - val_loss: 0.5702 - val_acc: 0.8300\n",
      "Epoch 12/20\n",
      "9576/9576 [==============================] - 5s 567us/sample - loss: 0.5649 - acc: 0.8334 - val_loss: 0.6376 - val_acc: 0.8235\n",
      "Epoch 13/20\n",
      "9576/9576 [==============================] - 5s 574us/sample - loss: 0.5308 - acc: 0.8440 - val_loss: 0.5710 - val_acc: 0.8441\n",
      "Epoch 14/20\n",
      "9576/9576 [==============================] - 6s 583us/sample - loss: 0.4842 - acc: 0.8579 - val_loss: 0.5758 - val_acc: 0.8376\n",
      "Epoch 15/20\n",
      "9576/9576 [==============================] - 5s 569us/sample - loss: 0.4456 - acc: 0.8705 - val_loss: 0.5938 - val_acc: 0.8319\n",
      "Epoch 16/20\n",
      "9576/9576 [==============================] - 5s 567us/sample - loss: 0.4093 - acc: 0.8798 - val_loss: 0.5457 - val_acc: 0.8460\n",
      "Epoch 17/20\n",
      "9576/9576 [==============================] - 5s 566us/sample - loss: 0.3852 - acc: 0.8889 - val_loss: 0.6424 - val_acc: 0.8329\n",
      "Epoch 18/20\n",
      "9576/9576 [==============================] - 5s 566us/sample - loss: 0.3608 - acc: 0.8951 - val_loss: 0.6591 - val_acc: 0.8300\n",
      "Epoch 19/20\n",
      "9576/9576 [==============================] - 5s 568us/sample - loss: 0.3404 - acc: 0.9009 - val_loss: 0.6046 - val_acc: 0.8460\n",
      "Epoch 20/20\n",
      "9576/9576 [==============================] - 5s 571us/sample - loss: 0.3098 - acc: 0.9118 - val_loss: 0.5963 - val_acc: 0.8545\n"
     ]
    }
   ],
   "source": [
    "import tensorflow as tf \n",
    "from tensorflow.keras.models import Sequential\n",
    "from tensorflow.keras.layers import Dense, Dropout, Activation, BatchNormalization, Flatten, Conv2D, MaxPooling2D\n",
    "import pickle\n",
    "from keras.models import model_from_json\n",
    "from keras.models import load_model\n",
    "import matplotlib.pyplot as plt\n",
    "from sklearn.model_selection import train_test_split\n",
    "\n",
    "# Opening the files about data\n",
    "X = pickle.load(open(\"X.pickle\", \"rb\"))\n",
    "y = pickle.load(open(\"y.pickle\", \"rb\"))\n",
    "\n",
    "# normalizing data (a pixel goes from 0 to 255)\n",
    "# X = X/255.0\n",
    "\n",
    "X_train, X_test, y_train, y_test = train_test_split(X, y, test_size=0.25, random_state=42)\n",
    "\n",
    "# Building the model\n",
    "model = Sequential()\n",
    "# 3 convolutional layers\n",
    "model.add(Conv2D(32, (3, 3), input_shape = X.shape[1:]))\n",
    "model.add(Activation(\"relu\"))\n",
    "model.add(MaxPooling2D(pool_size=(2,2)))\n",
    "\n",
    "model.add(Conv2D(64, (3, 3)))\n",
    "model.add(Activation(\"relu\"))\n",
    "model.add(MaxPooling2D(pool_size=(2,2)))\n",
    "\n",
    "model.add(Conv2D(64, (3, 3)))\n",
    "model.add(Activation(\"relu\"))\n",
    "model.add(MaxPooling2D(pool_size=(2,2)))\n",
    "\n",
    "\n",
    "# 2 hidden layers\n",
    "model.add(Flatten())\n",
    "model.add(Dense(128))\n",
    "model.add(Activation(\"relu\"))\n",
    "model.add(Dropout(0.5))\n",
    "\n",
    "model.add(Dense(128))\n",
    "model.add(Activation(\"relu\"))\n",
    "model.add(BatchNormalization())\n",
    "model.add(Dropout(0.5))\n",
    "\n",
    "# The output layer with 4 neurons, for 4 classes\n",
    "model.add(Dense(14))\n",
    "model.add(Activation(\"softmax\"))\n",
    "\n",
    "# Compiling the model using some basic parameters\n",
    "model.compile(loss=\"sparse_categorical_crossentropy\",\n",
    "                optimizer=\"adam\",\n",
    "                metrics=[\"accuracy\"])\n",
    "\n",
    "# Training the model, with 20 iterations\n",
    "# validation_split corresponds to the percentage of images used for the validation phase compared to all the images\n",
    "history = model.fit(X_train, y_train, batch_size=32, epochs=20, validation_split=0.1)"
   ]
  },
  {
   "cell_type": "code",
   "execution_count": 22,
   "metadata": {
    "scrolled": false
   },
   "outputs": [
    {
     "name": "stdout",
     "output_type": "stream",
     "text": [
      "Saved model to disk\n",
      "dict_keys(['loss', 'acc', 'val_loss', 'val_acc'])\n"
     ]
    },
    {
     "data": {
      "text/plain": [
       "<matplotlib.legend.Legend at 0x1db2668bac8>"
      ]
     },
     "execution_count": 22,
     "metadata": {},
     "output_type": "execute_result"
    },
    {
     "data": {
      "image/png": "[encoded data removed]",
      "text/plain": [
       "<Figure size 432x288 with 1 Axes>"
      ]
     },
     "metadata": {
      "needs_background": "light"
     },
     "output_type": "display_data"
    }
   ],
   "source": [
    "# Saving the model\n",
    "model_json = model.to_json()\n",
    "with open(\"model.json\", \"w\") as json_file :\n",
    "    json_file.write(model_json)\n",
    "\n",
    "model.save_weights(\"model.h5\")\n",
    "print(\"Saved model to disk\")\n",
    "\n",
    "model.save('kerasmodel.h5')\n",
    "\n",
    "# Printing a graph showing the accuracy changes during the training phase\n",
    "print(history.history.keys())\n",
    "plt.figure(1)\n",
    "plt.plot(history.history['acc'])\n",
    "plt.plot(history.history['val_acc'])\n",
    "plt.title('model accuracy')\n",
    "plt.ylabel('accuracy')\n",
    "plt.xlabel('epoch')\n",
    "plt.legend(['train', 'validation'], loc='upper left')"
   ]
  },
  {
   "cell_type": "code",
   "execution_count": 23,
   "metadata": {},
   "outputs": [
    {
     "name": "stdout",
     "output_type": "stream",
     "text": [
      "dict_keys(['loss', 'acc', 'val_loss', 'val_acc'])\n"
     ]
    },
    {
     "data": {
      "text/plain": [
       "<matplotlib.legend.Legend at 0x1db262ffc48>"
      ]
     },
     "execution_count": 23,
     "metadata": {},
     "output_type": "execute_result"
    },
    {
     "data": {
      "image/png": "[encoded data removed]",
      "text/plain": [
       "<Figure size 432x288 with 1 Axes>"
      ]
     },
     "metadata": {
      "needs_background": "light"
     },
     "output_type": "display_data"
    }
   ],
   "source": [
    "print(history.history.keys())\n",
    "plt.figure(1)\n",
    "plt.plot(history.history['loss'])\n",
    "plt.plot(history.history['val_loss'])\n",
    "plt.title('model loss')\n",
    "plt.ylabel('loss')\n",
    "plt.xlabel('epoch')\n",
    "plt.legend(['train', 'validation'], loc='upper left')"
   ]
  },
  {
   "cell_type": "code",
   "execution_count": 24,
   "metadata": {},
   "outputs": [
    {
     "name": "stdout",
     "output_type": "stream",
     "text": [
      "Model: \"sequential_3\"\n",
      "_________________________________________________________________\n",
      "Layer (type)                 Output Shape              Param #   \n",
      "=================================================================\n",
      "conv2d_9 (Conv2D)            (None, 26, 26, 32)        320       \n",
      "_________________________________________________________________\n",
      "activation_18 (Activation)   (None, 26, 26, 32)        0         \n",
      "_________________________________________________________________\n",
      "max_pooling2d_9 (MaxPooling2 (None, 13, 13, 32)        0         \n",
      "_________________________________________________________________\n",
      "conv2d_10 (Conv2D)           (None, 11, 11, 64)        18496     \n",
      "_________________________________________________________________\n",
      "activation_19 (Activation)   (None, 11, 11, 64)        0         \n",
      "_________________________________________________________________\n",
      "max_pooling2d_10 (MaxPooling (None, 5, 5, 64)          0         \n",
      "_________________________________________________________________\n",
      "conv2d_11 (Conv2D)           (None, 3, 3, 64)          36928     \n",
      "_________________________________________________________________\n",
      "activation_20 (Activation)   (None, 3, 3, 64)          0         \n",
      "_________________________________________________________________\n",
      "max_pooling2d_11 (MaxPooling (None, 1, 1, 64)          0         \n",
      "_________________________________________________________________\n",
      "flatten_3 (Flatten)          (None, 64)                0         \n",
      "_________________________________________________________________\n",
      "dense_9 (Dense)              (None, 128)               8320      \n",
      "_________________________________________________________________\n",
      "activation_21 (Activation)   (None, 128)               0         \n",
      "_________________________________________________________________\n",
      "dropout_6 (Dropout)          (None, 128)               0         \n",
      "_________________________________________________________________\n",
      "dense_10 (Dense)             (None, 128)               16512     \n",
      "_________________________________________________________________\n",
      "activation_22 (Activation)   (None, 128)               0         \n",
      "_________________________________________________________________\n",
      "batch_normalization_3 (Batch (None, 128)               512       \n",
      "_________________________________________________________________\n",
      "dropout_7 (Dropout)          (None, 128)               0         \n",
      "_________________________________________________________________\n",
      "dense_11 (Dense)             (None, 14)                1806      \n",
      "_________________________________________________________________\n",
      "activation_23 (Activation)   (None, 14)                0         \n",
      "=================================================================\n",
      "Total params: 82,894\n",
      "Trainable params: 82,638\n",
      "Non-trainable params: 256\n",
      "_________________________________________________________________\n"
     ]
    }
   ],
   "source": [
    "model.summary()"
   ]
  },
  {
   "cell_type": "code",
   "execution_count": 25,
   "metadata": {},
   "outputs": [
    {
     "name": "stdout",
     "output_type": "stream",
     "text": [
      "\n",
      "# Evaluate on test data\n",
      "3547/3547 [==============================] - 1s 149us/sample - loss: 0.5499 - acc: 0.8579\n",
      "test loss, test acc: [0.5499010894847716, 0.85790807]\n"
     ]
    }
   ],
   "source": [
    "print('\\n# Evaluate on test data')\n",
    "results = model.evaluate(X_test, y_test, batch_size=32)\n",
    "print('test loss, test acc:', results)\n"
   ]
  },
  {
   "cell_type": "code",
   "execution_count": null,
   "metadata": {},
   "outputs": [],
   "source": []
  }
 ],
 "metadata": {
  "kernelspec": {
   "display_name": "Python 3",
   "language": "python",
   "name": "python3"
  },
  "language_info": {
   "codemirror_mode": {
    "name": "ipython",
    "version": 3
   },
   "file_extension": ".py",
   "mimetype": "text/x-python",
   "name": "python",
   "nbconvert_exporter": "python",
   "pygments_lexer": "ipython3",
   "version": "3.7.4"
  }
 },
 "nbformat": 4,
 "nbformat_minor": 2
}
