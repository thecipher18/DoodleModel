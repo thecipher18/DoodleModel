{
 "cells": [
  {
   "cell_type": "code",
   "execution_count": 1,
   "metadata": {
    "scrolled": true
   },
   "outputs": [
    {
     "name": "stderr",
     "output_type": "stream",
     "text": [
      "Using TensorFlow backend.\n"
     ]
    },
    {
     "name": "stdout",
     "output_type": "stream",
     "text": [
      "WARNING:tensorflow:From C:\\Users\\Administrator\\Anaconda3\\lib\\site-packages\\tensorflow_core\\python\\ops\\resource_variable_ops.py:1630: calling BaseResourceVariable.__init__ (from tensorflow.python.ops.resource_variable_ops) with constraint is deprecated and will be removed in a future version.\n",
      "Instructions for updating:\n",
      "If using Keras pass *_constraint arguments to layers.\n",
      "Train on 10124 samples, validate on 1125 samples\n",
      "Epoch 1/20\n",
      "10124/10124 [==============================] - 6s 597us/sample - loss: 3.4162 - acc: 0.0727 - val_loss: 2.8143 - val_acc: 0.0880\n",
      "Epoch 2/20\n",
      "10124/10124 [==============================] - 6s 635us/sample - loss: 2.9109 - acc: 0.0895 - val_loss: 2.7004 - val_acc: 0.1084\n",
      "Epoch 3/20\n",
      "10124/10124 [==============================] - 6s 567us/sample - loss: 2.0921 - acc: 0.2860 - val_loss: 1.6029 - val_acc: 0.4916\n",
      "Epoch 4/20\n",
      "10124/10124 [==============================] - 6s 556us/sample - loss: 1.5619 - acc: 0.4853 - val_loss: 1.1653 - val_acc: 0.6338\n",
      "Epoch 5/20\n",
      "10124/10124 [==============================] - 6s 601us/sample - loss: 1.2627 - acc: 0.5967 - val_loss: 1.0373 - val_acc: 0.6587\n",
      "Epoch 6/20\n",
      "10124/10124 [==============================] - 6s 602us/sample - loss: 1.0864 - acc: 0.6590 - val_loss: 0.8105 - val_acc: 0.7556\n",
      "Epoch 7/20\n",
      "10124/10124 [==============================] - 6s 608us/sample - loss: 0.9547 - acc: 0.7111 - val_loss: 0.7825 - val_acc: 0.7582\n",
      "Epoch 8/20\n",
      "10124/10124 [==============================] - 6s 593us/sample - loss: 0.8344 - acc: 0.7501 - val_loss: 0.6915 - val_acc: 0.7938\n",
      "Epoch 9/20\n",
      "10124/10124 [==============================] - 6s 591us/sample - loss: 0.7801 - acc: 0.7744 - val_loss: 0.6524 - val_acc: 0.8053\n",
      "Epoch 10/20\n",
      "10124/10124 [==============================] - 6s 627us/sample - loss: 0.7059 - acc: 0.7959 - val_loss: 0.6225 - val_acc: 0.8000\n",
      "Epoch 11/20\n",
      "10124/10124 [==============================] - 6s 605us/sample - loss: 0.6501 - acc: 0.8062 - val_loss: 0.6852 - val_acc: 0.7938\n",
      "Epoch 12/20\n",
      "10124/10124 [==============================] - 6s 599us/sample - loss: 0.6301 - acc: 0.8171 - val_loss: 0.6086 - val_acc: 0.8098\n",
      "Epoch 13/20\n",
      "10124/10124 [==============================] - 6s 555us/sample - loss: 0.5627 - acc: 0.8365 - val_loss: 0.5673 - val_acc: 0.8258\n",
      "Epoch 14/20\n",
      "10124/10124 [==============================] - 6s 600us/sample - loss: 0.5229 - acc: 0.8488 - val_loss: 0.6044 - val_acc: 0.8151\n",
      "Epoch 15/20\n",
      "10124/10124 [==============================] - 6s 569us/sample - loss: 0.5047 - acc: 0.8550 - val_loss: 0.5699 - val_acc: 0.8258\n",
      "Epoch 16/20\n",
      "10124/10124 [==============================] - 6s 585us/sample - loss: 0.4706 - acc: 0.8629 - val_loss: 0.6061 - val_acc: 0.8151\n",
      "Epoch 17/20\n",
      "10124/10124 [==============================] - 6s 635us/sample - loss: 0.4316 - acc: 0.8735 - val_loss: 0.5792 - val_acc: 0.8364\n",
      "Epoch 18/20\n",
      "10124/10124 [==============================] - 6s 602us/sample - loss: 0.4015 - acc: 0.8830 - val_loss: 0.6446 - val_acc: 0.8169\n",
      "Epoch 19/20\n",
      "10124/10124 [==============================] - 6s 600us/sample - loss: 0.3751 - acc: 0.8912 - val_loss: 0.6584 - val_acc: 0.8276\n",
      "Epoch 20/20\n",
      "10124/10124 [==============================] - 6s 597us/sample - loss: 0.3438 - acc: 0.9023 - val_loss: 0.6153 - val_acc: 0.8347\n"
     ]
    }
   ],
   "source": [
    "import tensorflow as tf \n",
    "from tensorflow.keras.models import Sequential\n",
    "from tensorflow.keras.layers import Dense, Dropout, Activation, BatchNormalization, Flatten, Conv2D, MaxPooling2D\n",
    "import pickle\n",
    "from keras.models import model_from_json\n",
    "from keras.models import load_model\n",
    "import matplotlib.pyplot as plt\n",
    "from sklearn.model_selection import train_test_split\n",
    "\n",
    "# Opening the files about data\n",
    "X = pickle.load(open(\"X.pickle\", \"rb\"))\n",
    "y = pickle.load(open(\"y.pickle\", \"rb\"))\n",
    "\n",
    "# normalizing data (a pixel goes from 0 to 255)\n",
    "# X = X/255.0\n",
    "\n",
    "X_train, X_test, y_train, y_test = train_test_split(X, y, test_size=0.25, random_state=42)\n",
    "\n",
    "# Building the model\n",
    "model = Sequential()\n",
    "# 3 convolutional layers\n",
    "model.add(Conv2D(32, (3, 3), input_shape = X.shape[1:]))\n",
    "model.add(Activation(\"relu\"))\n",
    "model.add(MaxPooling2D(pool_size=(2,2)))\n",
    "\n",
    "model.add(Conv2D(64, (3, 3)))\n",
    "model.add(Activation(\"relu\"))\n",
    "model.add(MaxPooling2D(pool_size=(2,2)))\n",
    "\n",
    "model.add(Conv2D(64, (3, 3)))\n",
    "model.add(Activation(\"relu\"))\n",
    "model.add(MaxPooling2D(pool_size=(2,2)))\n",
    "\n",
    "\n",
    "# 2 hidden layers\n",
    "model.add(Flatten())\n",
    "model.add(Dense(128))\n",
    "model.add(Activation(\"relu\"))\n",
    "model.add(Dropout(0.5))\n",
    "\n",
    "model.add(Dense(128))\n",
    "model.add(Activation(\"relu\"))\n",
    "model.add(BatchNormalization())\n",
    "model.add(Dropout(0.5))\n",
    "\n",
    "# The output layer with 4 neurons, for 4 classes\n",
    "model.add(Dense(15))\n",
    "model.add(Activation(\"softmax\"))\n",
    "\n",
    "# Compiling the model using some basic parameters\n",
    "model.compile(loss=\"sparse_categorical_crossentropy\",\n",
    "                optimizer=\"adam\",\n",
    "                metrics=[\"accuracy\"])\n",
    "\n",
    "# Training the model, with 20 iterations\n",
    "# validation_split corresponds to the percentage of images used for the validation phase compared to all the images\n",
    "history = model.fit(X_train, y_train, batch_size=32, epochs=20, validation_split=0.1)"
   ]
  },
  {
   "cell_type": "code",
   "execution_count": 2,
   "metadata": {
    "scrolled": false
   },
   "outputs": [
    {
     "name": "stdout",
     "output_type": "stream",
     "text": [
      "Saved model to disk\n",
      "dict_keys(['loss', 'acc', 'val_loss', 'val_acc'])\n"
     ]
    },
    {
     "data": {
      "text/plain": [
       "<matplotlib.legend.Legend at 0x1d236ec9908>"
      ]
     },
     "execution_count": 2,
     "metadata": {},
     "output_type": "execute_result"
    },
    {
     "data": {
      "image/png": "[encoded data removed]",
      "text/plain": [
       "<Figure size 432x288 with 1 Axes>"
      ]
     },
     "metadata": {
      "needs_background": "light"
     },
     "output_type": "display_data"
    }
   ],
   "source": [
    "# Saving the model\n",
    "model_json = model.to_json()\n",
    "with open(\"model.json\", \"w\") as json_file :\n",
    "    json_file.write(model_json)\n",
    "\n",
    "model.save_weights(\"model.h5\")\n",
    "print(\"Saved model to disk\")\n",
    "\n",
    "model.save('kerasmodel.h5')\n",
    "\n",
    "# Printing a graph showing the accuracy changes during the training phase\n",
    "print(history.history.keys())\n",
    "plt.figure(1)\n",
    "plt.plot(history.history['acc'])\n",
    "plt.plot(history.history['val_acc'])\n",
    "plt.title('model accuracy')\n",
    "plt.ylabel('accuracy')\n",
    "plt.xlabel('epoch')\n",
    "plt.legend(['train', 'validation'], loc='upper left')"
   ]
  },
  {
   "cell_type": "code",
   "execution_count": 3,
   "metadata": {},
   "outputs": [
    {
     "name": "stdout",
     "output_type": "stream",
     "text": [
      "dict_keys(['loss', 'acc', 'val_loss', 'val_acc'])\n"
     ]
    },
    {
     "data": {
      "text/plain": [
       "<matplotlib.legend.Legend at 0x1d236ec9888>"
      ]
     },
     "execution_count": 3,
     "metadata": {},
     "output_type": "execute_result"
    },
    {
     "data": {
      "image/png": "[encoded data removed]",
      "text/plain": [
       "<Figure size 432x288 with 1 Axes>"
      ]
     },
     "metadata": {
      "needs_background": "light"
     },
     "output_type": "display_data"
    }
   ],
   "source": [
    "print(history.history.keys())\n",
    "plt.figure(1)\n",
    "plt.plot(history.history['loss'])\n",
    "plt.plot(history.history['val_loss'])\n",
    "plt.title('model loss')\n",
    "plt.ylabel('loss')\n",
    "plt.xlabel('epoch')\n",
    "plt.legend(['train', 'validation'], loc='upper left')"
   ]
  },
  {
   "cell_type": "code",
   "execution_count": 4,
   "metadata": {},
   "outputs": [
    {
     "name": "stdout",
     "output_type": "stream",
     "text": [
      "Model: \"sequential\"\n",
      "_________________________________________________________________\n",
      "Layer (type)                 Output Shape              Param #   \n",
      "=================================================================\n",
      "conv2d (Conv2D)              (None, 26, 26, 32)        320       \n",
      "_________________________________________________________________\n",
      "activation (Activation)      (None, 26, 26, 32)        0         \n",
      "_________________________________________________________________\n",
      "max_pooling2d (MaxPooling2D) (None, 13, 13, 32)        0         \n",
      "_________________________________________________________________\n",
      "conv2d_1 (Conv2D)            (None, 11, 11, 64)        18496     \n",
      "_________________________________________________________________\n",
      "activation_1 (Activation)    (None, 11, 11, 64)        0         \n",
      "_________________________________________________________________\n",
      "max_pooling2d_1 (MaxPooling2 (None, 5, 5, 64)          0         \n",
      "_________________________________________________________________\n",
      "conv2d_2 (Conv2D)            (None, 3, 3, 64)          36928     \n",
      "_________________________________________________________________\n",
      "activation_2 (Activation)    (None, 3, 3, 64)          0         \n",
      "_________________________________________________________________\n",
      "max_pooling2d_2 (MaxPooling2 (None, 1, 1, 64)          0         \n",
      "_________________________________________________________________\n",
      "flatten (Flatten)            (None, 64)                0         \n",
      "_________________________________________________________________\n",
      "dense (Dense)                (None, 128)               8320      \n",
      "_________________________________________________________________\n",
      "activation_3 (Activation)    (None, 128)               0         \n",
      "_________________________________________________________________\n",
      "dropout (Dropout)            (None, 128)               0         \n",
      "_________________________________________________________________\n",
      "dense_1 (Dense)              (None, 128)               16512     \n",
      "_________________________________________________________________\n",
      "activation_4 (Activation)    (None, 128)               0         \n",
      "_________________________________________________________________\n",
      "batch_normalization (BatchNo (None, 128)               512       \n",
      "_________________________________________________________________\n",
      "dropout_1 (Dropout)          (None, 128)               0         \n",
      "_________________________________________________________________\n",
      "dense_2 (Dense)              (None, 15)                1935      \n",
      "_________________________________________________________________\n",
      "activation_5 (Activation)    (None, 15)                0         \n",
      "=================================================================\n",
      "Total params: 83,023\n",
      "Trainable params: 82,767\n",
      "Non-trainable params: 256\n",
      "_________________________________________________________________\n"
     ]
    }
   ],
   "source": [
    "model.summary()"
   ]
  },
  {
   "cell_type": "code",
   "execution_count": 5,
   "metadata": {},
   "outputs": [
    {
     "name": "stdout",
     "output_type": "stream",
     "text": [
      "\n",
      "# Evaluate on test data\n",
      "3750/3750 [==============================] - 1s 138us/sample - loss: 0.6648 - acc: 0.8216\n",
      "test loss, test acc: [0.6648329826354981, 0.8216]\n"
     ]
    }
   ],
   "source": [
    "print('\\n# Evaluate on test data')\n",
    "results = model.evaluate(X_test, y_test, batch_size=32)\n",
    "print('test loss, test acc:', results)\n"
   ]
  },
  {
   "cell_type": "code",
   "execution_count": null,
   "metadata": {},
   "outputs": [],
   "source": []
  }
 ],
 "metadata": {
  "kernelspec": {
   "display_name": "Python 3",
   "language": "python",
   "name": "python3"
  },
  "language_info": {
   "codemirror_mode": {
    "name": "ipython",
    "version": 3
   },
   "file_extension": ".py",
   "mimetype": "text/x-python",
   "name": "python",
   "nbconvert_exporter": "python",
   "pygments_lexer": "ipython3",
   "version": "3.7.4"
  }
 },
 "nbformat": 4,
 "nbformat_minor": 2
}
