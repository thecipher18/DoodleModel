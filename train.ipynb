{
 "cells": [
  {
   "cell_type": "code",
   "execution_count": 2,
   "metadata": {
    "scrolled": true
   },
   "outputs": [
    {
     "name": "stdout",
     "output_type": "stream",
     "text": [
      "Train on 13501 samples, validate on 1501 samples\n",
      "Epoch 1/20\n",
      "13501/13501 [==============================] - 10s 773us/sample - loss: 2.9802 - acc: 0.0915 - val_loss: 2.5470 - val_acc: 0.1219\n",
      "Epoch 2/20\n",
      "13501/13501 [==============================] - 10s 723us/sample - loss: 2.3301 - acc: 0.1988 - val_loss: 1.8918 - val_acc: 0.3871\n",
      "Epoch 3/20\n",
      "13501/13501 [==============================] - 10s 707us/sample - loss: 1.8301 - acc: 0.3683 - val_loss: 1.4540 - val_acc: 0.5503\n",
      "Epoch 4/20\n",
      "13501/13501 [==============================] - 10s 705us/sample - loss: 1.4962 - acc: 0.5042 - val_loss: 1.2147 - val_acc: 0.6329\n",
      "Epoch 5/20\n",
      "13501/13501 [==============================] - 10s 758us/sample - loss: 1.3232 - acc: 0.5689 - val_loss: 1.0793 - val_acc: 0.6716\n",
      "Epoch 6/20\n",
      "13501/13501 [==============================] - 10s 731us/sample - loss: 1.2072 - acc: 0.6085 - val_loss: 0.9611 - val_acc: 0.7215\n",
      "Epoch 7/20\n",
      "13501/13501 [==============================] - 9s 697us/sample - loss: 1.1258 - acc: 0.6392 - val_loss: 0.9707 - val_acc: 0.7155\n",
      "Epoch 8/20\n",
      "13501/13501 [==============================] - 10s 712us/sample - loss: 1.0496 - acc: 0.6668 - val_loss: 0.8652 - val_acc: 0.7482\n",
      "Epoch 9/20\n",
      "13501/13501 [==============================] - 10s 708us/sample - loss: 1.0140 - acc: 0.6825 - val_loss: 0.8354 - val_acc: 0.7608\n",
      "Epoch 10/20\n",
      "13501/13501 [==============================] - 9s 701us/sample - loss: 0.9672 - acc: 0.6945 - val_loss: 0.8039 - val_acc: 0.7708\n",
      "Epoch 11/20\n",
      "13501/13501 [==============================] - 10s 710us/sample - loss: 0.9347 - acc: 0.7054 - val_loss: 0.7808 - val_acc: 0.7761\n",
      "Epoch 12/20\n",
      "13501/13501 [==============================] - 10s 706us/sample - loss: 0.9050 - acc: 0.7156 - val_loss: 0.7640 - val_acc: 0.7801\n",
      "Epoch 13/20\n",
      "13501/13501 [==============================] - 10s 708us/sample - loss: 0.8689 - acc: 0.7280 - val_loss: 0.7714 - val_acc: 0.7828\n",
      "Epoch 14/20\n",
      "13501/13501 [==============================] - 10s 708us/sample - loss: 0.8461 - acc: 0.7351 - val_loss: 0.7332 - val_acc: 0.7895\n",
      "Epoch 15/20\n",
      "13501/13501 [==============================] - 10s 706us/sample - loss: 0.8412 - acc: 0.7369 - val_loss: 0.7295 - val_acc: 0.8001\n",
      "Epoch 16/20\n",
      "13501/13501 [==============================] - 10s 707us/sample - loss: 0.8129 - acc: 0.7480 - val_loss: 0.7178 - val_acc: 0.7975\n",
      "Epoch 17/20\n",
      "13501/13501 [==============================] - 10s 731us/sample - loss: 0.7867 - acc: 0.7583 - val_loss: 0.7300 - val_acc: 0.7968\n",
      "Epoch 18/20\n",
      "13501/13501 [==============================] - 10s 705us/sample - loss: 0.7668 - acc: 0.7658 - val_loss: 0.6675 - val_acc: 0.8161\n",
      "Epoch 19/20\n",
      "13501/13501 [==============================] - 10s 717us/sample - loss: 0.7441 - acc: 0.7715 - val_loss: 0.6462 - val_acc: 0.8208\n",
      "Epoch 20/20\n",
      "13501/13501 [==============================] - 10s 708us/sample - loss: 0.7326 - acc: 0.7720 - val_loss: 0.6502 - val_acc: 0.8274\n"
     ]
    }
   ],
   "source": [
    "import tensorflow as tf \n",
    "from tensorflow.keras.models import Sequential\n",
    "from tensorflow.keras.layers import Dense, Dropout, Activation, Flatten, Conv2D, MaxPooling2D\n",
    "import pickle\n",
    "from keras.models import model_from_json\n",
    "from keras.models import load_model\n",
    "import matplotlib.pyplot as plt\n",
    "\n",
    "# Opening the files about data\n",
    "X = pickle.load(open(\"X.pickle\", \"rb\"))\n",
    "y = pickle.load(open(\"y.pickle\", \"rb\"))\n",
    "\n",
    "# normalizing data (a pixel goes from 0 to 255)\n",
    "# X = X/255.0\n",
    "\n",
    "# Building the model\n",
    "model = Sequential()\n",
    "# 3 convolutional layers\n",
    "model.add(Conv2D(32, (3, 3), input_shape = X.shape[1:]))\n",
    "model.add(Activation(\"relu\"))\n",
    "model.add(MaxPooling2D(pool_size=(2,2)))\n",
    "model.add(Dropout(0.5))\n",
    "\n",
    "model.add(Conv2D(64, (3, 3)))\n",
    "model.add(Activation(\"relu\"))\n",
    "model.add(MaxPooling2D(pool_size=(2,2)))\n",
    "\n",
    "model.add(Conv2D(64, (3, 3)))\n",
    "model.add(Activation(\"relu\"))\n",
    "model.add(MaxPooling2D(pool_size=(2,2)))\n",
    "model.add(Dropout(0.25))\n",
    "\n",
    "# 2 hidden layers\n",
    "model.add(Flatten())\n",
    "model.add(Dense(128))\n",
    "model.add(Activation(\"relu\"))\n",
    "\n",
    "model.add(Dense(128))\n",
    "model.add(Activation(\"relu\"))\n",
    "\n",
    "# The output layer with 4 neurons, for 4 classes\n",
    "model.add(Dense(15))\n",
    "model.add(Activation(\"softmax\"))\n",
    "\n",
    "# Compiling the model using some basic parameters\n",
    "model.compile(loss=\"sparse_categorical_crossentropy\",\n",
    "                optimizer=\"adam\",\n",
    "                metrics=[\"accuracy\"])\n",
    "\n",
    "# Training the model, with 20 iterations\n",
    "# validation_split corresponds to the percentage of images used for the validation phase compared to all the images\n",
    "history = model.fit(X, y, batch_size=32, epochs=20, validation_split=0.1)"
   ]
  },
  {
   "cell_type": "code",
   "execution_count": 3,
   "metadata": {},
   "outputs": [
    {
     "name": "stdout",
     "output_type": "stream",
     "text": [
      "Saved model to disk\n",
      "dict_keys(['loss', 'acc', 'val_loss', 'val_acc'])\n"
     ]
    },
    {
     "data": {
      "text/plain": [
       "<matplotlib.legend.Legend at 0x142c4612f88>"
      ]
     },
     "execution_count": 3,
     "metadata": {},
     "output_type": "execute_result"
    },
    {
     "data": {
      "image/png": "[encoded data removed]",
      "text/plain": [
       "<Figure size 432x288 with 1 Axes>"
      ]
     },
     "metadata": {
      "needs_background": "light"
     },
     "output_type": "display_data"
    }
   ],
   "source": [
    "# Saving the model\n",
    "model_json = model.to_json()\n",
    "with open(\"model.json\", \"w\") as json_file :\n",
    "    json_file.write(model_json)\n",
    "\n",
    "model.save_weights(\"model.h5\")\n",
    "print(\"Saved model to disk\")\n",
    "\n",
    "model.save('kerasmodel.h5')\n",
    "\n",
    "# Printing a graph showing the accuracy changes during the training phase\n",
    "print(history.history.keys())\n",
    "plt.figure(1)\n",
    "plt.plot(history.history['acc'])\n",
    "plt.plot(history.history['val_acc'])\n",
    "plt.title('model accuracy')\n",
    "plt.ylabel('accuracy')\n",
    "plt.xlabel('epoch')\n",
    "plt.legend(['train', 'validation'], loc='upper left')"
   ]
  },
  {
   "cell_type": "code",
   "execution_count": null,
   "metadata": {},
   "outputs": [],
   "source": []
  },
  {
   "cell_type": "code",
   "execution_count": null,
   "metadata": {},
   "outputs": [],
   "source": []
  }
 ],
 "metadata": {
  "kernelspec": {
   "display_name": "Python 3",
   "language": "python",
   "name": "python3"
  },
  "language_info": {
   "codemirror_mode": {
    "name": "ipython",
    "version": 3
   },
   "file_extension": ".py",
   "mimetype": "text/x-python",
   "name": "python",
   "nbconvert_exporter": "python",
   "pygments_lexer": "ipython3",
   "version": "3.7.4"
  }
 },
 "nbformat": 4,
 "nbformat_minor": 2
}
