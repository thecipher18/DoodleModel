{
 "cells": [
  {
   "cell_type": "code",
   "execution_count": 1,
   "metadata": {
    "scrolled": true
   },
   "outputs": [
    {
     "name": "stderr",
     "output_type": "stream",
     "text": [
      "Using TensorFlow backend.\n"
     ]
    },
    {
     "name": "stdout",
     "output_type": "stream",
     "text": [
      "WARNING:tensorflow:From C:\\Users\\Administrator\\Anaconda3\\lib\\site-packages\\tensorflow_core\\python\\ops\\resource_variable_ops.py:1630: calling BaseResourceVariable.__init__ (from tensorflow.python.ops.resource_variable_ops) with constraint is deprecated and will be removed in a future version.\n",
      "Instructions for updating:\n",
      "If using Keras pass *_constraint arguments to layers.\n",
      "Train on 10124 samples, validate on 1125 samples\n",
      "Epoch 1/20\n",
      "10124/10124 [==============================] - 8s 778us/sample - loss: 3.4165 - acc: 0.0703 - val_loss: 2.7331 - val_acc: 0.0827\n",
      "Epoch 2/20\n",
      "10124/10124 [==============================] - 7s 719us/sample - loss: 2.6603 - acc: 0.1542 - val_loss: 2.3286 - val_acc: 0.1867\n",
      "Epoch 3/20\n",
      "10124/10124 [==============================] - 7s 686us/sample - loss: 1.7802 - acc: 0.4043 - val_loss: 1.3477 - val_acc: 0.5893\n",
      "Epoch 4/20\n",
      "10124/10124 [==============================] - 7s 693us/sample - loss: 1.3076 - acc: 0.5824 - val_loss: 0.9640 - val_acc: 0.7209\n",
      "Epoch 5/20\n",
      "10124/10124 [==============================] - 7s 681us/sample - loss: 1.0108 - acc: 0.6912 - val_loss: 0.7792 - val_acc: 0.7689\n",
      "Epoch 6/20\n",
      "10124/10124 [==============================] - 7s 680us/sample - loss: 0.8587 - acc: 0.7393 - val_loss: 0.6555 - val_acc: 0.8018\n",
      "Epoch 7/20\n",
      "10124/10124 [==============================] - 7s 673us/sample - loss: 0.7476 - acc: 0.7780 - val_loss: 0.6925 - val_acc: 0.8071\n",
      "Epoch 8/20\n",
      "10124/10124 [==============================] - 7s 677us/sample - loss: 0.6727 - acc: 0.7998 - val_loss: 0.5862 - val_acc: 0.8240ss: 0.6766 -\n",
      "Epoch 9/20\n",
      "10124/10124 [==============================] - 7s 672us/sample - loss: 0.6080 - acc: 0.8252 - val_loss: 0.6798 - val_acc: 0.8124\n",
      "Epoch 10/20\n",
      "10124/10124 [==============================] - 7s 730us/sample - loss: 0.5498 - acc: 0.8402 - val_loss: 0.5720 - val_acc: 0.8338\n",
      "Epoch 11/20\n",
      "10124/10124 [==============================] - 7s 723us/sample - loss: 0.5141 - acc: 0.8545 - val_loss: 0.5855 - val_acc: 0.8444\n",
      "Epoch 12/20\n",
      "10124/10124 [==============================] - 7s 665us/sample - loss: 0.4744 - acc: 0.8629 - val_loss: 0.5641 - val_acc: 0.8364\n",
      "Epoch 13/20\n",
      "10124/10124 [==============================] - 7s 674us/sample - loss: 0.4276 - acc: 0.8749 - val_loss: 0.6045 - val_acc: 0.8471\n",
      "Epoch 14/20\n",
      "10124/10124 [==============================] - 7s 664us/sample - loss: 0.4008 - acc: 0.8844 - val_loss: 0.5477 - val_acc: 0.8391\n",
      "Epoch 15/20\n",
      "10124/10124 [==============================] - 7s 677us/sample - loss: 0.3578 - acc: 0.9007 - val_loss: 0.6865 - val_acc: 0.8373\n",
      "Epoch 16/20\n",
      "10124/10124 [==============================] - 7s 673us/sample - loss: 0.3476 - acc: 0.8969 - val_loss: 0.5902 - val_acc: 0.8524\n",
      "Epoch 17/20\n",
      "10124/10124 [==============================] - 7s 662us/sample - loss: 0.3222 - acc: 0.9076 - val_loss: 0.5771 - val_acc: 0.8453\n",
      "Epoch 18/20\n",
      "10124/10124 [==============================] - 7s 669us/sample - loss: 0.2915 - acc: 0.9162 - val_loss: 0.7058 - val_acc: 0.8347\n",
      "Epoch 19/20\n",
      "10124/10124 [==============================] - 7s 691us/sample - loss: 0.2746 - acc: 0.9226 - val_loss: 0.6154 - val_acc: 0.8453\n",
      "Epoch 20/20\n",
      "10124/10124 [==============================] - 7s 665us/sample - loss: 0.2668 - acc: 0.9234 - val_loss: 0.6574 - val_acc: 0.8560\n"
     ]
    }
   ],
   "source": [
    "import tensorflow as tf \n",
    "from tensorflow.keras.models import Sequential\n",
    "from tensorflow.keras.layers import Dense, Dropout, Activation, BatchNormalization, Flatten, Conv2D, MaxPooling2D\n",
    "import pickle\n",
    "from keras.models import model_from_json\n",
    "from keras.models import load_model\n",
    "import matplotlib.pyplot as plt\n",
    "from sklearn.model_selection import train_test_split\n",
    "\n",
    "# Opening the files about data\n",
    "X = pickle.load(open(\"X.pickle\", \"rb\"))\n",
    "y = pickle.load(open(\"y.pickle\", \"rb\"))\n",
    "\n",
    "# normalizing data (a pixel goes from 0 to 255)\n",
    "# X = X/255.0\n",
    "\n",
    "X_train, X_test, y_train, y_test = train_test_split(X, y, test_size=0.25, random_state=42)\n",
    "\n",
    "# Building the model\n",
    "model = Sequential()\n",
    "# 3 convolutional layers\n",
    "model.add(Conv2D(32, (3, 3), input_shape = X.shape[1:]))\n",
    "model.add(Activation(\"relu\"))\n",
    "model.add(MaxPooling2D(pool_size=(2,2)))\n",
    "\n",
    "model.add(Conv2D(64, (3, 3)))\n",
    "model.add(Activation(\"relu\"))\n",
    "model.add(MaxPooling2D(pool_size=(2,2)))\n",
    "\n",
    "model.add(Conv2D(64, (3, 3)))\n",
    "model.add(Activation(\"relu\"))\n",
    "model.add(MaxPooling2D(pool_size=(2,2)))\n",
    "\n",
    "\n",
    "# 2 hidden layers\n",
    "model.add(Flatten())\n",
    "model.add(Dense(128))\n",
    "model.add(Activation(\"relu\"))\n",
    "model.add(Dropout(0.5))\n",
    "\n",
    "model.add(Dense(128))\n",
    "model.add(Activation(\"relu\"))\n",
    "model.add(BatchNormalization())\n",
    "model.add(Dropout(0.5))\n",
    "\n",
    "# The output layer with 4 neurons, for 4 classes\n",
    "model.add(Dense(15))\n",
    "model.add(Activation(\"softmax\"))\n",
    "\n",
    "# Compiling the model using some basic parameters\n",
    "model.compile(loss=\"sparse_categorical_crossentropy\",\n",
    "                optimizer=\"adam\",\n",
    "                metrics=[\"accuracy\"])\n",
    "\n",
    "# Training the model, with 20 iterations\n",
    "# validation_split corresponds to the percentage of images used for the validation phase compared to all the images\n",
    "history = model.fit(X_train, y_train, batch_size=32, epochs=20, validation_split=0.1)"
   ]
  },
  {
   "cell_type": "code",
   "execution_count": 2,
   "metadata": {
    "scrolled": false
   },
   "outputs": [
    {
     "name": "stdout",
     "output_type": "stream",
     "text": [
      "Saved model to disk\n",
      "dict_keys(['loss', 'acc', 'val_loss', 'val_acc'])\n"
     ]
    },
    {
     "data": {
      "text/plain": [
       "<matplotlib.legend.Legend at 0x15a21a07b48>"
      ]
     },
     "execution_count": 2,
     "metadata": {},
     "output_type": "execute_result"
    },
    {
     "data": {
      "image/png": "[encoded data removed]",
      "text/plain": [
       "<Figure size 432x288 with 1 Axes>"
      ]
     },
     "metadata": {
      "needs_background": "light"
     },
     "output_type": "display_data"
    }
   ],
   "source": [
    "# Saving the model\n",
    "model_json = model.to_json()\n",
    "with open(\"model.json\", \"w\") as json_file :\n",
    "    json_file.write(model_json)\n",
    "\n",
    "model.save_weights(\"model.h5\")\n",
    "print(\"Saved model to disk\")\n",
    "\n",
    "model.save('kerasmodel.h5')\n",
    "\n",
    "# Printing a graph showing the accuracy changes during the training phase\n",
    "print(history.history.keys())\n",
    "plt.figure(1)\n",
    "plt.plot(history.history['acc'])\n",
    "plt.plot(history.history['val_acc'])\n",
    "plt.title('model accuracy')\n",
    "plt.ylabel('accuracy')\n",
    "plt.xlabel('epoch')\n",
    "plt.legend(['train', 'validation'], loc='upper left')"
   ]
  },
  {
   "cell_type": "code",
   "execution_count": 3,
   "metadata": {},
   "outputs": [
    {
     "name": "stdout",
     "output_type": "stream",
     "text": [
      "dict_keys(['loss', 'acc', 'val_loss', 'val_acc'])\n"
     ]
    },
    {
     "data": {
      "text/plain": [
       "<matplotlib.legend.Legend at 0x15a21a07ac8>"
      ]
     },
     "execution_count": 3,
     "metadata": {},
     "output_type": "execute_result"
    },
    {
     "data": {
      "image/png": "[encoded data removed]",
      "text/plain": [
       "<Figure size 432x288 with 1 Axes>"
      ]
     },
     "metadata": {
      "needs_background": "light"
     },
     "output_type": "display_data"
    }
   ],
   "source": [
    "print(history.history.keys())\n",
    "plt.figure(1)\n",
    "plt.plot(history.history['loss'])\n",
    "plt.plot(history.history['val_loss'])\n",
    "plt.title('model loss')\n",
    "plt.ylabel('loss')\n",
    "plt.xlabel('epoch')\n",
    "plt.legend(['train', 'validation'], loc='upper left')"
   ]
  },
  {
   "cell_type": "code",
   "execution_count": 4,
   "metadata": {},
   "outputs": [
    {
     "name": "stdout",
     "output_type": "stream",
     "text": [
      "Model: \"sequential\"\n",
      "_________________________________________________________________\n",
      "Layer (type)                 Output Shape              Param #   \n",
      "=================================================================\n",
      "conv2d (Conv2D)              (None, 26, 26, 32)        320       \n",
      "_________________________________________________________________\n",
      "activation (Activation)      (None, 26, 26, 32)        0         \n",
      "_________________________________________________________________\n",
      "max_pooling2d (MaxPooling2D) (None, 13, 13, 32)        0         \n",
      "_________________________________________________________________\n",
      "conv2d_1 (Conv2D)            (None, 11, 11, 64)        18496     \n",
      "_________________________________________________________________\n",
      "activation_1 (Activation)    (None, 11, 11, 64)        0         \n",
      "_________________________________________________________________\n",
      "max_pooling2d_1 (MaxPooling2 (None, 5, 5, 64)          0         \n",
      "_________________________________________________________________\n",
      "conv2d_2 (Conv2D)            (None, 3, 3, 64)          36928     \n",
      "_________________________________________________________________\n",
      "activation_2 (Activation)    (None, 3, 3, 64)          0         \n",
      "_________________________________________________________________\n",
      "max_pooling2d_2 (MaxPooling2 (None, 1, 1, 64)          0         \n",
      "_________________________________________________________________\n",
      "flatten (Flatten)            (None, 64)                0         \n",
      "_________________________________________________________________\n",
      "dense (Dense)                (None, 128)               8320      \n",
      "_________________________________________________________________\n",
      "activation_3 (Activation)    (None, 128)               0         \n",
      "_________________________________________________________________\n",
      "dropout (Dropout)            (None, 128)               0         \n",
      "_________________________________________________________________\n",
      "dense_1 (Dense)              (None, 128)               16512     \n",
      "_________________________________________________________________\n",
      "activation_4 (Activation)    (None, 128)               0         \n",
      "_________________________________________________________________\n",
      "batch_normalization (BatchNo (None, 128)               512       \n",
      "_________________________________________________________________\n",
      "dropout_1 (Dropout)          (None, 128)               0         \n",
      "_________________________________________________________________\n",
      "dense_2 (Dense)              (None, 15)                1935      \n",
      "_________________________________________________________________\n",
      "activation_5 (Activation)    (None, 15)                0         \n",
      "=================================================================\n",
      "Total params: 83,023\n",
      "Trainable params: 82,767\n",
      "Non-trainable params: 256\n",
      "_________________________________________________________________\n"
     ]
    }
   ],
   "source": [
    "model.summary()"
   ]
  },
  {
   "cell_type": "code",
   "execution_count": 5,
   "metadata": {},
   "outputs": [
    {
     "name": "stdout",
     "output_type": "stream",
     "text": [
      "\n",
      "# Evaluate on test data\n",
      "3750/3750 [==============================] - 1s 175us/sample - loss: 0.6797 - acc: 0.8392\n",
      "test loss, test acc: [0.6796754020373027, 0.8392]\n"
     ]
    }
   ],
   "source": [
    "print('\\n# Evaluate on test data')\n",
    "results = model.evaluate(X_test, y_test, batch_size=32)\n",
    "print('test loss, test acc:', results)\n"
   ]
  },
  {
   "cell_type": "code",
   "execution_count": null,
   "metadata": {},
   "outputs": [],
   "source": []
  }
 ],
 "metadata": {
  "kernelspec": {
   "display_name": "Python 3",
   "language": "python",
   "name": "python3"
  },
  "language_info": {
   "codemirror_mode": {
    "name": "ipython",
    "version": 3
   },
   "file_extension": ".py",
   "mimetype": "text/x-python",
   "name": "python",
   "nbconvert_exporter": "python",
   "pygments_lexer": "ipython3",
   "version": "3.7.4"
  }
 },
 "nbformat": 4,
 "nbformat_minor": 2
}
