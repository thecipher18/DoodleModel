{
 "cells": [
  {
   "cell_type": "code",
   "execution_count": 6,
   "metadata": {
    "scrolled": true
   },
   "outputs": [
    {
     "name": "stdout",
     "output_type": "stream",
     "text": [
      "Train on 10080 samples, validate on 1121 samples\n",
      "Epoch 1/20\n",
      "10080/10080 [==============================] - 6s 623us/sample - loss: 3.2825 - acc: 0.0852 - val_loss: 2.5983 - val_acc: 0.0981\n",
      "Epoch 2/20\n",
      "10080/10080 [==============================] - 6s 609us/sample - loss: 2.3760 - acc: 0.2245 - val_loss: 1.7440 - val_acc: 0.4184\n",
      "Epoch 3/20\n",
      "10080/10080 [==============================] - 6s 613us/sample - loss: 1.5715 - acc: 0.4859 - val_loss: 1.0640 - val_acc: 0.6887\n",
      "Epoch 4/20\n",
      "10080/10080 [==============================] - 6s 602us/sample - loss: 1.1191 - acc: 0.6570 - val_loss: 0.7856 - val_acc: 0.7663\n",
      "Epoch 5/20\n",
      "10080/10080 [==============================] - 6s 585us/sample - loss: 0.8862 - acc: 0.7354 - val_loss: 0.6952 - val_acc: 0.7948\n",
      "Epoch 6/20\n",
      "10080/10080 [==============================] - 6s 631us/sample - loss: 0.7539 - acc: 0.7765 - val_loss: 0.6854 - val_acc: 0.7877\n",
      "Epoch 7/20\n",
      "10080/10080 [==============================] - 7s 646us/sample - loss: 0.6855 - acc: 0.7997 - val_loss: 0.6805 - val_acc: 0.7948\n",
      "Epoch 8/20\n",
      "10080/10080 [==============================] - 6s 612us/sample - loss: 0.6018 - acc: 0.8236 - val_loss: 0.5608 - val_acc: 0.8359\n",
      "Epoch 9/20\n",
      "10080/10080 [==============================] - 6s 630us/sample - loss: 0.5566 - acc: 0.8370 - val_loss: 0.6485 - val_acc: 0.8198\n",
      "Epoch 10/20\n",
      "10080/10080 [==============================] - 7s 696us/sample - loss: 0.5060 - acc: 0.8531 - val_loss: 0.6094 - val_acc: 0.8269\n",
      "Epoch 11/20\n",
      "10080/10080 [==============================] - 7s 655us/sample - loss: 0.4587 - acc: 0.8664 - val_loss: 0.5386 - val_acc: 0.8555\n",
      "Epoch 12/20\n",
      "10080/10080 [==============================] - 6s 640us/sample - loss: 0.4229 - acc: 0.8797 - val_loss: 0.5500 - val_acc: 0.8492\n",
      "Epoch 13/20\n",
      "10080/10080 [==============================] - 8s 750us/sample - loss: 0.3841 - acc: 0.8896 - val_loss: 0.5854 - val_acc: 0.8537\n",
      "Epoch 14/20\n",
      "10080/10080 [==============================] - 8s 748us/sample - loss: 0.3448 - acc: 0.8995 - val_loss: 0.5753 - val_acc: 0.8546\n",
      "Epoch 15/20\n",
      "10080/10080 [==============================] - 8s 764us/sample - loss: 0.3358 - acc: 0.9077 - val_loss: 0.5648 - val_acc: 0.8537\n",
      "Epoch 16/20\n",
      "10080/10080 [==============================] - 7s 732us/sample - loss: 0.2901 - acc: 0.9148 - val_loss: 0.5958 - val_acc: 0.8510\n",
      "Epoch 17/20\n",
      "10080/10080 [==============================] - 7s 722us/sample - loss: 0.2809 - acc: 0.9179 - val_loss: 0.5931 - val_acc: 0.8537\n",
      "Epoch 18/20\n",
      "10080/10080 [==============================] - 8s 768us/sample - loss: 0.2510 - acc: 0.9262 - val_loss: 0.6825 - val_acc: 0.8376\n",
      "Epoch 19/20\n",
      "10080/10080 [==============================] - 9s 874us/sample - loss: 0.2371 - acc: 0.9322 - val_loss: 0.6091 - val_acc: 0.8599\n",
      "Epoch 20/20\n",
      "10080/10080 [==============================] - 8s 797us/sample - loss: 0.2271 - acc: 0.9349 - val_loss: 0.7017 - val_acc: 0.8439\n"
     ]
    }
   ],
   "source": [
    "import tensorflow as tf \n",
    "from tensorflow.keras.models import Sequential\n",
    "from tensorflow.keras.layers import Dense, Dropout, Activation, BatchNormalization, Flatten, Conv2D, MaxPooling2D\n",
    "import pickle\n",
    "from keras.models import model_from_json\n",
    "from keras.models import load_model\n",
    "import matplotlib.pyplot as plt\n",
    "from sklearn.model_selection import train_test_split\n",
    "\n",
    "# Opening the files about data\n",
    "X = pickle.load(open(\"X.pickle\", \"rb\"))\n",
    "y = pickle.load(open(\"y.pickle\", \"rb\"))\n",
    "\n",
    "# normalizing data (a pixel goes from 0 to 255)\n",
    "# X = X/255.0\n",
    "\n",
    "X_train, X_test, y_train, y_test = train_test_split(X, y, test_size=0.2, random_state=42)\n",
    "\n",
    "# Building the model\n",
    "model = Sequential()\n",
    "# 3 convolutional layers\n",
    "model.add(Conv2D(32, (3, 3), input_shape = X.shape[1:]))\n",
    "model.add(Activation(\"relu\"))\n",
    "model.add(MaxPooling2D(pool_size=(2,2)))\n",
    "\n",
    "model.add(Conv2D(64, (3, 3)))\n",
    "model.add(Activation(\"relu\"))\n",
    "model.add(MaxPooling2D(pool_size=(2,2)))\n",
    "\n",
    "model.add(Conv2D(64, (3, 3)))\n",
    "model.add(Activation(\"relu\"))\n",
    "model.add(MaxPooling2D(pool_size=(2,2)))\n",
    "\n",
    "\n",
    "# 2 hidden layers\n",
    "model.add(Flatten())\n",
    "model.add(Dense(128))\n",
    "model.add(Activation(\"relu\"))\n",
    "model.add(Dropout(0.5))\n",
    "\n",
    "model.add(Dense(128))\n",
    "model.add(Activation(\"relu\"))\n",
    "model.add(BatchNormalization())\n",
    "model.add(Dropout(0.5))\n",
    "\n",
    "# The output layer with 4 neurons, for 4 classes\n",
    "model.add(Dense(14))\n",
    "model.add(Activation(\"softmax\"))\n",
    "\n",
    "# Compiling the model using some basic parameters\n",
    "model.compile(loss=\"sparse_categorical_crossentropy\",\n",
    "                optimizer=\"adam\",\n",
    "                metrics=[\"accuracy\"])\n",
    "\n",
    "# Training the model, with 20 iterations\n",
    "# validation_split corresponds to the percentage of images used for the validation phase compared to all the images\n",
    "history = model.fit(X_train, y_train, batch_size=32, epochs=20, validation_split=0.1)"
   ]
  },
  {
   "cell_type": "code",
   "execution_count": 7,
   "metadata": {
    "scrolled": false
   },
   "outputs": [
    {
     "name": "stdout",
     "output_type": "stream",
     "text": [
      "Saved model to disk\n",
      "dict_keys(['loss', 'acc', 'val_loss', 'val_acc'])\n"
     ]
    },
    {
     "data": {
      "text/plain": [
       "<matplotlib.legend.Legend at 0x120b9856308>"
      ]
     },
     "execution_count": 7,
     "metadata": {},
     "output_type": "execute_result"
    },
    {
     "data": {
      "image/png": "[encoded data removed]",
      "text/plain": [
       "<Figure size 432x288 with 1 Axes>"
      ]
     },
     "metadata": {
      "needs_background": "light"
     },
     "output_type": "display_data"
    }
   ],
   "source": [
    "# Saving the model\n",
    "model_json = model.to_json()\n",
    "with open(\"model.json\", \"w\") as json_file :\n",
    "    json_file.write(model_json)\n",
    "\n",
    "model.save_weights(\"model.h5\")\n",
    "print(\"Saved model to disk\")\n",
    "\n",
    "model.save('kerasmodel.h5')\n",
    "\n",
    "# Printing a graph showing the accuracy changes during the training phase\n",
    "print(history.history.keys())\n",
    "plt.figure(1)\n",
    "plt.plot(history.history['acc'])\n",
    "plt.plot(history.history['val_acc'])\n",
    "plt.title('model accuracy')\n",
    "plt.ylabel('accuracy')\n",
    "plt.xlabel('epoch')\n",
    "plt.legend(['train', 'validation'], loc='upper left')"
   ]
  },
  {
   "cell_type": "code",
   "execution_count": 8,
   "metadata": {},
   "outputs": [
    {
     "name": "stdout",
     "output_type": "stream",
     "text": [
      "dict_keys(['loss', 'acc', 'val_loss', 'val_acc'])\n"
     ]
    },
    {
     "data": {
      "text/plain": [
       "<matplotlib.legend.Legend at 0x120b9873ec8>"
      ]
     },
     "execution_count": 8,
     "metadata": {},
     "output_type": "execute_result"
    },
    {
     "data": {
      "image/png": "[encoded data removed]",
      "text/plain": [
       "<Figure size 432x288 with 1 Axes>"
      ]
     },
     "metadata": {
      "needs_background": "light"
     },
     "output_type": "display_data"
    }
   ],
   "source": [
    "print(history.history.keys())\n",
    "plt.figure(1)\n",
    "plt.plot(history.history['loss'])\n",
    "plt.plot(history.history['val_loss'])\n",
    "plt.title('model loss')\n",
    "plt.ylabel('loss')\n",
    "plt.xlabel('epoch')\n",
    "plt.legend(['train', 'validation'], loc='upper left')"
   ]
  },
  {
   "cell_type": "code",
   "execution_count": 9,
   "metadata": {},
   "outputs": [
    {
     "name": "stdout",
     "output_type": "stream",
     "text": [
      "Model: \"sequential_1\"\n",
      "_________________________________________________________________\n",
      "Layer (type)                 Output Shape              Param #   \n",
      "=================================================================\n",
      "conv2d_3 (Conv2D)            (None, 26, 26, 32)        320       \n",
      "_________________________________________________________________\n",
      "activation_6 (Activation)    (None, 26, 26, 32)        0         \n",
      "_________________________________________________________________\n",
      "max_pooling2d_3 (MaxPooling2 (None, 13, 13, 32)        0         \n",
      "_________________________________________________________________\n",
      "conv2d_4 (Conv2D)            (None, 11, 11, 64)        18496     \n",
      "_________________________________________________________________\n",
      "activation_7 (Activation)    (None, 11, 11, 64)        0         \n",
      "_________________________________________________________________\n",
      "max_pooling2d_4 (MaxPooling2 (None, 5, 5, 64)          0         \n",
      "_________________________________________________________________\n",
      "conv2d_5 (Conv2D)            (None, 3, 3, 64)          36928     \n",
      "_________________________________________________________________\n",
      "activation_8 (Activation)    (None, 3, 3, 64)          0         \n",
      "_________________________________________________________________\n",
      "max_pooling2d_5 (MaxPooling2 (None, 1, 1, 64)          0         \n",
      "_________________________________________________________________\n",
      "flatten_1 (Flatten)          (None, 64)                0         \n",
      "_________________________________________________________________\n",
      "dense_3 (Dense)              (None, 128)               8320      \n",
      "_________________________________________________________________\n",
      "activation_9 (Activation)    (None, 128)               0         \n",
      "_________________________________________________________________\n",
      "dropout_2 (Dropout)          (None, 128)               0         \n",
      "_________________________________________________________________\n",
      "dense_4 (Dense)              (None, 128)               16512     \n",
      "_________________________________________________________________\n",
      "activation_10 (Activation)   (None, 128)               0         \n",
      "_________________________________________________________________\n",
      "batch_normalization_1 (Batch (None, 128)               512       \n",
      "_________________________________________________________________\n",
      "dropout_3 (Dropout)          (None, 128)               0         \n",
      "_________________________________________________________________\n",
      "dense_5 (Dense)              (None, 14)                1806      \n",
      "_________________________________________________________________\n",
      "activation_11 (Activation)   (None, 14)                0         \n",
      "=================================================================\n",
      "Total params: 82,894\n",
      "Trainable params: 82,638\n",
      "Non-trainable params: 256\n",
      "_________________________________________________________________\n"
     ]
    }
   ],
   "source": [
    "model.summary()"
   ]
  },
  {
   "cell_type": "code",
   "execution_count": 10,
   "metadata": {},
   "outputs": [
    {
     "name": "stdout",
     "output_type": "stream",
     "text": [
      "\n",
      "# Evaluate on test data\n",
      "2801/2801 [==============================] - 1s 206us/sample - loss: 0.6420 - acc: 0.8508\n",
      "test loss, test acc: [0.6420080931814004, 0.8507676]\n"
     ]
    }
   ],
   "source": [
    "print('\\n# Evaluate on test data')\n",
    "results = model.evaluate(X_test, y_test, batch_size=32)\n",
    "print('test loss, test acc:', results)\n"
   ]
  },
  {
   "cell_type": "code",
   "execution_count": null,
   "metadata": {},
   "outputs": [],
   "source": []
  }
 ],
 "metadata": {
  "kernelspec": {
   "display_name": "Python 3",
   "language": "python",
   "name": "python3"
  },
  "language_info": {
   "codemirror_mode": {
    "name": "ipython",
    "version": 3
   },
   "file_extension": ".py",
   "mimetype": "text/x-python",
   "name": "python",
   "nbconvert_exporter": "python",
   "pygments_lexer": "ipython3",
   "version": "3.7.4"
  }
 },
 "nbformat": 4,
 "nbformat_minor": 2
}
